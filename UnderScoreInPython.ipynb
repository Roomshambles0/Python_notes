{
 "cells": [
  {
   "cell_type": "code",
   "execution_count": 5,
   "id": "7bb1cf1f",
   "metadata": {},
   "outputs": [
    {
     "name": "stdout",
     "output_type": "stream",
     "text": [
      "Test\n",
      "Test\n",
      "Test\n",
      "Test\n",
      "Test\n",
      "Test\n",
      "Test\n",
      "Test\n",
      "Test\n",
      "Test\n",
      "1\n",
      "<class '__main__.MyClass'>\n",
      "Public variable 10\n",
      "Protected variable 12\n",
      "1000000\n"
     ]
    }
   ],
   "source": [
    "## Single underscore\n",
    "#In python single underscore used to ignore values\n",
    "\n",
    "\n",
    "for _ in range(10):\n",
    "    print(\"Test\")\n",
    "    \n",
    "    \n",
    "\n",
    "#Ignore a value when unpacking\n",
    "## a,b,_,_ = my_method(var1)\n",
    "\n",
    "\n",
    "#Single underscore after a name used to define python reserved keywords as \n",
    "#variable names\n",
    "\n",
    "class MyClass():\n",
    "    def __init__(self):\n",
    "        print(\"OWK\")\n",
    "        \n",
    "def my_defination(var1=1,class_=MyClass):\n",
    "    print(var1)\n",
    "    print(class_)\n",
    "    \n",
    "    \n",
    "my_defination()\n",
    "\n",
    "\n",
    "#single underscore before variable name\n",
    "#single underscore before variable name make it protected name or method\n",
    "\n",
    "\n",
    "\n",
    "class Prefix:\n",
    "    def __init__(self):\n",
    "        self.public = 10\n",
    "        self._protected = 12\n",
    "test = Prefix()\n",
    " \n",
    "print(\"Public variable\",test.public)\n",
    " \n",
    "print(\"Protected variable\",test._protected)\n",
    "\n",
    "\n",
    "#used to seperate digits in number\n",
    "# while printing _ will be ignored\n",
    "num = 10_000_00\n",
    "print(num)\n"
   ]
  },
  {
   "cell_type": "code",
   "execution_count": null,
   "id": "f2533fe0",
   "metadata": {},
   "outputs": [],
   "source": [
    "## Double underscore \n",
    "# __ before method and variable make it private variable4\n",
    "\n",
    "# __ before and after makes it magiacal method it is used for method overloading\n",
    "\n"
   ]
  }
 ],
 "metadata": {
  "kernelspec": {
   "display_name": "Python 3 (ipykernel)",
   "language": "python",
   "name": "python3"
  },
  "language_info": {
   "codemirror_mode": {
    "name": "ipython",
    "version": 3
   },
   "file_extension": ".py",
   "mimetype": "text/x-python",
   "name": "python",
   "nbconvert_exporter": "python",
   "pygments_lexer": "ipython3",
   "version": "3.11.2"
  }
 },
 "nbformat": 4,
 "nbformat_minor": 5
}
