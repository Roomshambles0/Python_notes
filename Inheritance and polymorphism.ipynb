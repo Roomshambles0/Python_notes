{
 "cells": [
  {
   "cell_type": "markdown",
   "id": "20d33538",
   "metadata": {},
   "source": [
    "## Inheritance"
   ]
  },
  {
   "cell_type": "code",
   "execution_count": 25,
   "id": "547c3452",
   "metadata": {},
   "outputs": [],
   "source": [
    "#inheritance is a way to form new classes by using classes that are already been defined\n",
    "#ability to reuse code and reduce complexity of the program \n",
    "#In inheritance derived class can use all methods of base class"
   ]
  },
  {
   "cell_type": "code",
   "execution_count": null,
   "id": "96c01262",
   "metadata": {},
   "outputs": [],
   "source": []
  },
  {
   "cell_type": "code",
   "execution_count": 26,
   "id": "5bcd7188",
   "metadata": {},
   "outputs": [],
   "source": [
    "#Base class\n",
    "\n",
    "class Animal():\n",
    "    def __init__(self):\n",
    "        print(\"Animal Created\")\n",
    "    def eat(self):\n",
    "        print(\"I am eating\")\n",
    "    def who_am_i(self):\n",
    "        print(\"I am animal\")"
   ]
  },
  {
   "cell_type": "code",
   "execution_count": 27,
   "id": "af7a90b8",
   "metadata": {},
   "outputs": [
    {
     "name": "stdout",
     "output_type": "stream",
     "text": [
      "Animal Created\n"
     ]
    }
   ],
   "source": [
    "animal = Animal()"
   ]
  },
  {
   "cell_type": "code",
   "execution_count": 28,
   "id": "1ebab999",
   "metadata": {},
   "outputs": [
    {
     "name": "stdout",
     "output_type": "stream",
     "text": [
      "I am eating\n"
     ]
    }
   ],
   "source": [
    "animal.eat()"
   ]
  },
  {
   "cell_type": "code",
   "execution_count": 29,
   "id": "2fd5669e",
   "metadata": {},
   "outputs": [
    {
     "name": "stdout",
     "output_type": "stream",
     "text": [
      "I am animal\n"
     ]
    }
   ],
   "source": [
    "animal.who_am_i()"
   ]
  },
  {
   "cell_type": "code",
   "execution_count": 30,
   "id": "6abd8866",
   "metadata": {},
   "outputs": [],
   "source": [
    "# Derived class\n",
    "class Dog(Animal):\n",
    "    def __init__(self):\n",
    "        Animal.__init__(self)\n",
    "        print(\"Dog Created\")\n",
    "#Redifining who_am_i method or overwriting parent/ base class method\n",
    "    def who_am_i(self):\n",
    "        print(\"I am a dog\")\n",
    "    def bark(self):\n",
    "        print(\"Meow....!\")"
   ]
  },
  {
   "cell_type": "code",
   "execution_count": 31,
   "id": "185234e4",
   "metadata": {},
   "outputs": [
    {
     "name": "stdout",
     "output_type": "stream",
     "text": [
      "Animal Created\n",
      "Dog Created\n"
     ]
    }
   ],
   "source": [
    "dog = Dog()"
   ]
  },
  {
   "cell_type": "code",
   "execution_count": 32,
   "id": "cdaa3c87",
   "metadata": {},
   "outputs": [
    {
     "name": "stdout",
     "output_type": "stream",
     "text": [
      "I am eating\n"
     ]
    }
   ],
   "source": [
    "dog.eat()"
   ]
  },
  {
   "cell_type": "code",
   "execution_count": 33,
   "id": "6b04aa5b",
   "metadata": {},
   "outputs": [
    {
     "name": "stdout",
     "output_type": "stream",
     "text": [
      "I am a dog\n"
     ]
    }
   ],
   "source": [
    "dog.who_am_i()"
   ]
  },
  {
   "cell_type": "code",
   "execution_count": 34,
   "id": "e0afd763",
   "metadata": {},
   "outputs": [
    {
     "name": "stdout",
     "output_type": "stream",
     "text": [
      "Meow....!\n"
     ]
    }
   ],
   "source": [
    "dog.bark()\n"
   ]
  },
  {
   "cell_type": "markdown",
   "id": "9d45421a",
   "metadata": {},
   "source": [
    "## Polymorphism"
   ]
  },
  {
   "cell_type": "code",
   "execution_count": 1,
   "id": "d29b7b2c",
   "metadata": {},
   "outputs": [],
   "source": [
    "#Polymorphism refers to the different object classes refers to the same method name the \n",
    "#those methods can be called from the same place, even though a varity of differnt objects might be passed in "
   ]
  },
  {
   "cell_type": "code",
   "execution_count": 13,
   "id": "d1b3e665",
   "metadata": {},
   "outputs": [],
   "source": [
    "class Dog():\n",
    "    def __init__(self,name):\n",
    "        self.name = name\n",
    "    def speak(self):\n",
    "        return self.name + \" says woof..!\""
   ]
  },
  {
   "cell_type": "code",
   "execution_count": 14,
   "id": "856a3ff6",
   "metadata": {},
   "outputs": [],
   "source": [
    "class Cat():\n",
    "    def __init__(self,name):\n",
    "        self.name = name\n",
    "    def speak(self):\n",
    "        return self.name + \" says Meow..!\""
   ]
  },
  {
   "cell_type": "code",
   "execution_count": 15,
   "id": "2d5fccf0",
   "metadata": {},
   "outputs": [],
   "source": [
    "inu = Dog(\"inu\")\n",
    "neko = Cat(\"neko\")"
   ]
  },
  {
   "cell_type": "code",
   "execution_count": 16,
   "id": "40c71c57",
   "metadata": {},
   "outputs": [
    {
     "data": {
      "text/plain": [
       "'inu'"
      ]
     },
     "execution_count": 16,
     "metadata": {},
     "output_type": "execute_result"
    }
   ],
   "source": [
    "inu.name\n"
   ]
  },
  {
   "cell_type": "code",
   "execution_count": 17,
   "id": "410931cd",
   "metadata": {},
   "outputs": [
    {
     "data": {
      "text/plain": [
       "'inu says woof..!'"
      ]
     },
     "execution_count": 17,
     "metadata": {},
     "output_type": "execute_result"
    }
   ],
   "source": [
    "inu.speak()"
   ]
  },
  {
   "cell_type": "code",
   "execution_count": 18,
   "id": "cf208c34",
   "metadata": {},
   "outputs": [
    {
     "data": {
      "text/plain": [
       "'neko says Meow..!'"
      ]
     },
     "execution_count": 18,
     "metadata": {},
     "output_type": "execute_result"
    }
   ],
   "source": [
    "neko.speak()"
   ]
  },
  {
   "cell_type": "markdown",
   "id": "dff0f529",
   "metadata": {},
   "source": [
    "## Abstract classes"
   ]
  },
  {
   "cell_type": "code",
   "execution_count": 19,
   "id": "98db16b1",
   "metadata": {},
   "outputs": [],
   "source": [
    "#Class that never expects to be instantiated never actually create instance of the class \n",
    "#this classes are designed to be served as base class"
   ]
  },
  {
   "cell_type": "code",
   "execution_count": 20,
   "id": "cbc61a17",
   "metadata": {},
   "outputs": [],
   "source": [
    "class Animal():\n",
    "    def __init__(self,name):\n",
    "        self.name = name\n",
    "    def speak(self):\n",
    "        raise NotImplimentedError(\"Subclass must implement this abstract method\")"
   ]
  },
  {
   "cell_type": "code",
   "execution_count": 21,
   "id": "87c3b3b6",
   "metadata": {},
   "outputs": [],
   "source": [
    "animal = Animal('Moti')"
   ]
  },
  {
   "cell_type": "code",
   "execution_count": 1,
   "id": "458e6926",
   "metadata": {},
   "outputs": [
    {
     "ename": "NameError",
     "evalue": "name 'animal' is not defined",
     "output_type": "error",
     "traceback": [
      "\u001b[1;31m---------------------------------------------------------------------------\u001b[0m",
      "\u001b[1;31mNameError\u001b[0m                                 Traceback (most recent call last)",
      "Cell \u001b[1;32mIn[1], line 1\u001b[0m\n\u001b[1;32m----> 1\u001b[0m animal\u001b[38;5;241m.\u001b[39mname\n",
      "\u001b[1;31mNameError\u001b[0m: name 'animal' is not defined"
     ]
    }
   ],
   "source": [
    "animal.name"
   ]
  },
  {
   "cell_type": "code",
   "execution_count": null,
   "id": "b5ba5a13",
   "metadata": {},
   "outputs": [],
   "source": [
    "##Method overriding is an ability of any object-oriented programming language that allows \n",
    "##a subclass or child class to provide a specific implementation of a \n",
    "##method that is already provided by one of its super-classes or parent classes"
   ]
  }
 ],
 "metadata": {
  "kernelspec": {
   "display_name": "Python 3 (ipykernel)",
   "language": "python",
   "name": "python3"
  },
  "language_info": {
   "codemirror_mode": {
    "name": "ipython",
    "version": 3
   },
   "file_extension": ".py",
   "mimetype": "text/x-python",
   "name": "python",
   "nbconvert_exporter": "python",
   "pygments_lexer": "ipython3",
   "version": "3.11.2"
  }
 },
 "nbformat": 4,
 "nbformat_minor": 5
}
