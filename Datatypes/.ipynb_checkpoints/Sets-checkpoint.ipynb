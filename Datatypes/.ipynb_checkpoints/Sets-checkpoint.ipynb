{
 "cells": [
  {
   "cell_type": "code",
   "execution_count": 2,
   "id": "41d2f5b7",
   "metadata": {},
   "outputs": [],
   "source": [
    "## unordered unindexed and unchangable data type"
   ]
  },
  {
   "cell_type": "code",
   "execution_count": 3,
   "id": "9114a89a",
   "metadata": {},
   "outputs": [],
   "source": [
    "# duplicates not allowed \n",
    "# set treats true = 1 and false = 0 same\n"
   ]
  },
  {
   "cell_type": "code",
   "execution_count": 13,
   "id": "45154a10",
   "metadata": {},
   "outputs": [],
   "source": [
    "set1 = {\"abc\",34,True,40,\"male\"}"
   ]
  },
  {
   "cell_type": "code",
   "execution_count": 14,
   "id": "045c5ff6",
   "metadata": {},
   "outputs": [
    {
     "name": "stdout",
     "output_type": "stream",
     "text": [
      "True\n"
     ]
    }
   ],
   "source": [
    "# accessing in set \n",
    "# # cannot access by reffering to index or key \n",
    "\n",
    "thisset = {\"apple\", \"banana\", \"cherry\"}\n",
    "\n",
    "print(\"banana\"  in thisset)\n"
   ]
  },
  {
   "cell_type": "code",
   "execution_count": 15,
   "id": "0f360caf",
   "metadata": {},
   "outputs": [
    {
     "name": "stdout",
     "output_type": "stream",
     "text": [
      "{'orange', 'banana', 'apple', 'cherry'}\n",
      "{'pineapple', 'banana', 'apple', 'mango', 'cherry', 'papaya', 'orange'}\n"
     ]
    }
   ],
   "source": [
    "# You can add items \n",
    "# but you cannot edit items in set\n",
    "\n",
    "thisset.add(\"orange\")\n",
    "print(thisset)\n",
    "\n",
    "# by update method you can add two sets together\n",
    "tropical = {\"pineapple\", \"mango\", \"papaya\"}\n",
    "thisset.update(tropical)\n",
    "\n",
    "print(thisset)"
   ]
  },
  {
   "cell_type": "code",
   "execution_count": 16,
   "id": "fcae2ce1",
   "metadata": {},
   "outputs": [
    {
     "name": "stdout",
     "output_type": "stream",
     "text": [
      "{'pineapple', 'banana', 'apple', 'mango', 'cherry', 'papaya'}\n",
      "{'pineapple', 'apple', 'mango', 'cherry', 'papaya'}\n",
      "{'apple', 'mango', 'cherry', 'papaya'}\n",
      "set()\n"
     ]
    }
   ],
   "source": [
    "## removing items in set \n",
    "\n",
    "thisset.remove('orange') # remove method will give error\n",
    "print(thisset)           # if the item is not present in set\n",
    "\n",
    "thisset.discard('banana') # discard will not give any error if item is not \n",
    "print(thisset)            # present\n",
    "    \n",
    "thisset.pop() # removes random item in set\n",
    "print(thisset)\n",
    "\n",
    "thisset.clear() # empties the list\n",
    "print(thisset)\n",
    "\n",
    "del tropical"
   ]
  },
  {
   "cell_type": "code",
   "execution_count": 19,
   "id": "a1087b4c",
   "metadata": {},
   "outputs": [
    {
     "name": "stdout",
     "output_type": "stream",
     "text": [
      "banana\n",
      "apple\n",
      "cherry\n"
     ]
    }
   ],
   "source": [
    "# looping or iterating on set element\n",
    "\n",
    "set1 = {\"apple\", \"banana\", \"cherry\"}\n",
    "thisset.update(set1)\n",
    "\n",
    "for x in thisset:\n",
    "    print(x)\n"
   ]
  },
  {
   "cell_type": "code",
   "execution_count": 23,
   "id": "72889085",
   "metadata": {},
   "outputs": [
    {
     "name": "stdout",
     "output_type": "stream",
     "text": [
      "{1, 'a', 2, 3, 'c', 'b'}\n",
      "{1, 'a', 2, 3, 'c', 'b'}\n",
      "{1, 2, 'a', 3, 'c', 'b'}\n"
     ]
    }
   ],
   "source": [
    "## join sets\n",
    "\n",
    "# Union of sets\n",
    "# .set(set1,set2,...) multiple sets\n",
    "# exclude duplicate items\n",
    "\n",
    "set1 = {\"a\", \"b\", \"c\",1,}\n",
    "set2 = {1, 2, 3}\n",
    "tuple1 = (1,2,3)\n",
    "\n",
    "set3 = set1.union(set2)\n",
    "print(set3)\n",
    "\n",
    "set3 = set1 | set2\n",
    "print(set3)\n",
    "\n",
    "#union with tuple \n",
    "# cannot tuple with | operator do with .union method\n",
    "\n",
    "set4 = set1.union(tuple1)\n",
    "print(set4)"
   ]
  },
  {
   "cell_type": "code",
   "execution_count": 31,
   "id": "26565bfa",
   "metadata": {},
   "outputs": [
    {
     "name": "stdout",
     "output_type": "stream",
     "text": [
      "{1}\n",
      "{1}\n",
      "{1, 2, 3}\n"
     ]
    }
   ],
   "source": [
    "# intersection\n",
    "# keeps only duplicate between sets\n",
    "# .intersection(set2)\n",
    "# done with only two sets\n",
    "\n",
    "set1 = {\"a\", \"b\", \"c\",1,}\n",
    "set2 = {1, 2, 3}\n",
    "set4 = {2}\n",
    "tuple1 = (1,2,3)\n",
    "\n",
    "set3 = set1.intersection(set2)\n",
    "print(set3)\n",
    "\n",
    "# with & operator\n",
    "\n",
    "set3 = set1 & set2\n",
    "print(set3)\n",
    "\n",
    "# with tuples\n",
    "\n",
    "set5 = set2.intersection(tuple1)\n",
    "print(set5)"
   ]
  },
  {
   "cell_type": "code",
   "execution_count": 33,
   "id": "bf19f482",
   "metadata": {},
   "outputs": [
    {
     "name": "stdout",
     "output_type": "stream",
     "text": [
      "{'apple'}\n",
      "{False, 1, 'apple'}\n"
     ]
    }
   ],
   "source": [
    "# intersection_update()\n",
    "# keeps duplicates but changes original set instead of returning new\n",
    "\n",
    "set1 = {\"apple\", \"banana\", \"cherry\"}\n",
    "set2 = {\"google\", \"microsoft\", \"apple\"}\n",
    "\n",
    "set1.intersection_update(set2)\n",
    "\n",
    "print(set1)\n",
    "\n",
    "#Join sets that contains the values True, False, 1, and 0, and see \n",
    "# what is considered as duplicates:\n",
    "\n",
    "set1 = {\"apple\", 1,  \"banana\", 0, \"cherry\"}\n",
    "set2 = {False, \"google\", 1, \"apple\", 2, True}\n",
    "\n",
    "set3 = set1.intersection(set2)\n",
    "\n",
    "print(set3)"
   ]
  },
  {
   "cell_type": "code",
   "execution_count": 34,
   "id": "73e5b64a",
   "metadata": {},
   "outputs": [
    {
     "name": "stdout",
     "output_type": "stream",
     "text": [
      "{'banana', 'cherry'}\n",
      "{'banana', 'cherry'}\n"
     ]
    }
   ],
   "source": [
    "# difference method The difference() method will return a new set \n",
    "# that will contain only the items from the first set that are not present in the other set.\n",
    "\n",
    "\n",
    "set1 = {\"apple\", \"banana\", \"cherry\"}\n",
    "set2 = {\"google\", \"microsoft\", \"apple\"}\n",
    "\n",
    "set3 = set1.difference(set2)\n",
    "\n",
    "print(set3)\n",
    "\n",
    "# use the - operator instead of the difference() method\n",
    "\n",
    "set1 = {\"apple\", \"banana\", \"cherry\"}\n",
    "set2 = {\"google\", \"microsoft\", \"apple\"}\n",
    "\n",
    "set3 = set1 - set2\n",
    "print(set3)"
   ]
  },
  {
   "cell_type": "code",
   "execution_count": 35,
   "id": "1d495b8a",
   "metadata": {},
   "outputs": [
    {
     "name": "stdout",
     "output_type": "stream",
     "text": [
      "{'banana', 'cherry'}\n"
     ]
    }
   ],
   "source": [
    "# The difference_update() method will also keep the items from the\n",
    "# first set that are not in the other set,\n",
    "# but it will change the original set instead of returning a new set.\n",
    "\n",
    "set1 = {\"apple\", \"banana\", \"cherry\"}\n",
    "set2 = {\"google\", \"microsoft\", \"apple\"}\n",
    "\n",
    "set1.difference_update(set2)\n",
    "\n",
    "print(set1)"
   ]
  },
  {
   "cell_type": "code",
   "execution_count": 36,
   "id": "bedb0008",
   "metadata": {},
   "outputs": [
    {
     "name": "stdout",
     "output_type": "stream",
     "text": [
      "{'banana', 'google', 'cherry', 'microsoft'}\n",
      "{'banana', 'google', 'cherry', 'microsoft'}\n"
     ]
    }
   ],
   "source": [
    "## Symmetric difference \n",
    "# The symmetric_difference() method will keep only the elements \n",
    "# that are NOT present in both sets.\n",
    "set1 = {\"apple\", \"banana\", \"cherry\"}\n",
    "set2 = {\"google\", \"microsoft\", \"apple\"}\n",
    "\n",
    "set3 = set1.symmetric_difference(set2)\n",
    "\n",
    "print(set3)\n",
    "\n",
    "set3 = set1 ^ set2\n",
    "print(set3)"
   ]
  },
  {
   "cell_type": "code",
   "execution_count": 37,
   "id": "8b9ebf78",
   "metadata": {},
   "outputs": [
    {
     "name": "stdout",
     "output_type": "stream",
     "text": [
      "{'banana', 'google', 'cherry', 'microsoft'}\n"
     ]
    }
   ],
   "source": [
    "# The symmetric_difference_update() method will also keep all but \n",
    "# the duplicates,but it will change the original set instead of returning a new set.\n",
    "\n",
    "set1 = {\"apple\", \"banana\", \"cherry\"}\n",
    "set2 = {\"google\", \"microsoft\", \"apple\"}\n",
    "\n",
    "set1.symmetric_difference_update(set2)\n",
    "\n",
    "print(set1)"
   ]
  },
  {
   "cell_type": "code",
   "execution_count": 38,
   "id": "b0032125",
   "metadata": {},
   "outputs": [
    {
     "name": "stdout",
     "output_type": "stream",
     "text": [
      "False\n"
     ]
    }
   ],
   "source": [
    "# disjoint() \n",
    "# The isdisjoint() method returns True \n",
    "# if none of the items are present in both sets, otherwise it returns False.\n",
    "\n",
    "x = {\"apple\", \"banana\", \"cherry\"}\n",
    "y = {\"google\", \"microsoft\", \"apple\"}\n",
    "\n",
    "z = x.isdisjoint(y)\n",
    "\n",
    "print(z)"
   ]
  },
  {
   "cell_type": "code",
   "execution_count": 42,
   "id": "267de197",
   "metadata": {},
   "outputs": [
    {
     "name": "stdout",
     "output_type": "stream",
     "text": [
      "True\n",
      "True\n",
      "False\n"
     ]
    }
   ],
   "source": [
    "# issubset()\n",
    "# The issubset() method returns True if all items in the set exists \n",
    "# in the specified set, \n",
    "# otherwise it returns False.\n",
    "# As a shortcut, you can use the <= operator instead, see example below.\n",
    "\n",
    "\n",
    "x = {\"a\", \"b\", \"c\"}\n",
    "y = {\"f\", \"e\", \"d\", \"c\", \"b\", \"a\"}\n",
    "\n",
    "z = x.issubset(y)\n",
    "\n",
    "print(z)\n",
    "\n",
    "\n",
    "z = x <= y\n",
    "\n",
    "print(z)\n",
    "\n",
    "# if not all items are present in the specified set?\n",
    "x = {\"a\", \"b\", \"c\"}\n",
    "y = {\"f\", \"e\", \"d\", \"c\", \"b\"}\n",
    "\n",
    "z = x.issubset(y)\n",
    "\n",
    "print(z)"
   ]
  },
  {
   "cell_type": "code",
   "execution_count": 44,
   "id": "7f37a3b9",
   "metadata": {},
   "outputs": [
    {
     "name": "stdout",
     "output_type": "stream",
     "text": [
      "True\n",
      "True\n",
      "False\n"
     ]
    }
   ],
   "source": [
    "#issuperset() method returns True if all items in the specified\n",
    "# set exists in the original set, otherwise it returns False.\n",
    "# As a shortcut, you can use the >= operator instead\n",
    "\n",
    "x = {\"f\", \"e\", \"d\", \"c\", \"b\", \"a\"}\n",
    "y = {\"a\", \"b\", \"c\"}\n",
    "\n",
    "z = x.issuperset(y)\n",
    "\n",
    "print(z)\n",
    "\n",
    "z = x >= y\n",
    "\n",
    "print(z)\n",
    "\n",
    "# if not all items are present in the specified set?\n",
    "x = {\"f\", \"e\", \"d\", \"c\", \"b\"}\n",
    "y = {\"a\", \"b\", \"c\"}\n",
    "\n",
    "z = x.issuperset(y)\n",
    "\n",
    "print(z)"
   ]
  },
  {
   "cell_type": "code",
   "execution_count": null,
   "id": "28206c3f",
   "metadata": {},
   "outputs": [],
   "source": []
  }
 ],
 "metadata": {
  "kernelspec": {
   "display_name": "Python 3 (ipykernel)",
   "language": "python",
   "name": "python3"
  },
  "language_info": {
   "codemirror_mode": {
    "name": "ipython",
    "version": 3
   },
   "file_extension": ".py",
   "mimetype": "text/x-python",
   "name": "python",
   "nbconvert_exporter": "python",
   "pygments_lexer": "ipython3",
   "version": "3.11.2"
  }
 },
 "nbformat": 4,
 "nbformat_minor": 5
}
