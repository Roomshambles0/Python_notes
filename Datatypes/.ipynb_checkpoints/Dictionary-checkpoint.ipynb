{
 "cells": [
  {
   "cell_type": "code",
   "execution_count": 2,
   "id": "f8f6dd5a",
   "metadata": {},
   "outputs": [
    {
     "name": "stdout",
     "output_type": "stream",
     "text": [
      "22\n",
      "22\n"
     ]
    }
   ],
   "source": [
    "#Python dictionay\n",
    "#duplicate keys ovverride existing keys\n",
    "\n",
    "\n",
    "dicti = {\"Piyush\":22,\"Ishan\":88,\"Nilay\":75}\n",
    "\n",
    "# accesing Items\n",
    "\n",
    "print(dicti[\"Piyush\"])\n",
    "\n",
    "print(dicti.get(\"Piyush\"))\n"
   ]
  },
  {
   "cell_type": "code",
   "execution_count": 4,
   "id": "4ff25548",
   "metadata": {},
   "outputs": [
    {
     "name": "stdout",
     "output_type": "stream",
     "text": [
      "dict_keys(['Piyush', 'Ishan', 'Nilay'])\n",
      "dict_values([22, 88, 75])\n",
      "True\n"
     ]
    }
   ],
   "source": [
    "# accesing keys\n",
    "print(dicti.keys())\n",
    "\n",
    "# accessing values\n",
    "print(dicti.values())\n",
    "\n",
    "# if exist gets the value of color key if not \n",
    "x = dicti.setdefault(\"color\",\"white\")\n",
    "print(x)\n",
    "\n",
    "#cheacking if key exists\n",
    "\n",
    "if \"Piyush\" in dicti:\n",
    "    print(True)\n",
    "else: \n",
    "    print(False)"
   ]
  },
  {
   "cell_type": "code",
   "execution_count": 12,
   "id": "cca88253",
   "metadata": {},
   "outputs": [
    {
     "name": "stdout",
     "output_type": "stream",
     "text": [
      "{'Piyush': 77, 'Ishan': 88, 'Nilay': 75, 'Chaitanya': 55, 'Iba': 77, 88: 'sdf', 'color': 'white'}\n"
     ]
    }
   ],
   "source": [
    "# modifying dict\n",
    "\n",
    "dicti[\"Piyush\"] = 55\n",
    "\n",
    "dicti.update({\"Piyush\": 77})\n",
    "\n",
    "\n",
    "print(dicti)"
   ]
  },
  {
   "cell_type": "code",
   "execution_count": 14,
   "id": "d4bc4286",
   "metadata": {},
   "outputs": [
    {
     "name": "stdout",
     "output_type": "stream",
     "text": [
      "{'Piyush': 77, 'Ishan': 88, 'Nilay': 75, 'Chaitanya': 55, 'Iba': 77, 88: 'sdf', 'color': 'white', 'PK': 55, 'IK': 88}\n"
     ]
    }
   ],
   "source": [
    "#adding to dict\n",
    "\n",
    "dicti[\"PK\"] = 55\n",
    "\n",
    "dicti.update({\"IK\":88})\n",
    "\n",
    "print(dicti)"
   ]
  },
  {
   "cell_type": "code",
   "execution_count": 15,
   "id": "846e8911",
   "metadata": {},
   "outputs": [
    {
     "name": "stdout",
     "output_type": "stream",
     "text": [
      "{'Piyush': 77, 'Ishan': 88, 'Nilay': 75, 'Chaitanya': 55, 'Iba': 77, 88: 'sdf', 'color': 'white', 'IK': 88}\n",
      "{'Piyush': 77, 'Ishan': 88, 'Nilay': 75, 'Chaitanya': 55, 'Iba': 77, 88: 'sdf', 'color': 'white'}\n",
      "{}\n"
     ]
    },
    {
     "ename": "NameError",
     "evalue": "name 'dicti' is not defined",
     "output_type": "error",
     "traceback": [
      "\u001b[1;31m---------------------------------------------------------------------------\u001b[0m",
      "\u001b[1;31mNameError\u001b[0m                                 Traceback (most recent call last)",
      "Cell \u001b[1;32mIn[15], line 17\u001b[0m\n\u001b[0;32m     15\u001b[0m \u001b[38;5;66;03m#completely removes/deletes dictionary\u001b[39;00m\n\u001b[0;32m     16\u001b[0m \u001b[38;5;28;01mdel\u001b[39;00m dicti\n\u001b[1;32m---> 17\u001b[0m \u001b[38;5;28mprint\u001b[39m(dicti)\n",
      "\u001b[1;31mNameError\u001b[0m: name 'dicti' is not defined"
     ]
    }
   ],
   "source": [
    "# removing in dict \n",
    "\n",
    "#removes at specified key\n",
    "dicti.pop(\"PK\")\n",
    "print(dicti)\n",
    "\n",
    "#removes last inserted item dont have to give key name\n",
    "dicti.popitem()\n",
    "print(dicti)\n",
    "\n",
    "#empties the dictionary\n",
    "dicti.clear()\n",
    "print(dicti)\n",
    "\n",
    "#completely removes/deletes dictionary\n",
    "del dicti\n",
    "print(dicti)\n"
   ]
  },
  {
   "cell_type": "code",
   "execution_count": 8,
   "id": "648e7915",
   "metadata": {},
   "outputs": [
    {
     "name": "stdout",
     "output_type": "stream",
     "text": [
      "Piyush\n",
      "Ishan\n",
      "Nilay\n",
      "All\n",
      "22\n",
      "88\n",
      "75\n",
      "[22, 88, 75]\n",
      ".keys() method Piyush\n",
      ".keys() method Ishan\n",
      ".keys() method Nilay\n",
      ".keys() method All\n",
      ".values() method 22\n",
      ".values() method 88\n",
      ".values() method 75\n",
      ".values() method [22, 88, 75]\n",
      ".items() ('Piyush', 22)\n",
      ".items() ('Ishan', 88)\n",
      ".items() ('Nilay', 75)\n",
      ".items() ('All', [22, 88, 75])\n",
      "dict_items([('Piyush', 22), ('Ishan', 88), ('Nilay', 75), ('All', [22, 88, 75])])\n"
     ]
    }
   ],
   "source": [
    "# looping through dictionary\n",
    "dicti = {\"Piyush\":22,\"Ishan\":88,\"Nilay\":75, \"All\":[22,88,75]}\n",
    "\n",
    "for x in dicti:\n",
    "    print(x) #prints the keys\n",
    "    \n",
    "for x in dicti:\n",
    "    print(dicti[x]) # prints the values\n",
    "    \n",
    "\n",
    "for x in dicti.keys():\n",
    "    print(\".keys() method\",x) #prints keys\n",
    "    \n",
    "for x in dicti.values():\n",
    "    print(\".values() method\",x) # prints values\n",
    "    \n",
    "for x in dicti.items():\n",
    "    print(\".items()\",x) # returns tuple for each key value pair\n",
    "\n",
    "y = dicti.items()  # returns list of tuples for each key value pair\n",
    "print(y)"
   ]
  },
  {
   "cell_type": "code",
   "execution_count": null,
   "id": "91d0ff42",
   "metadata": {},
   "outputs": [],
   "source": []
  }
 ],
 "metadata": {
  "kernelspec": {
   "display_name": "Python 3 (ipykernel)",
   "language": "python",
   "name": "python3"
  },
  "language_info": {
   "codemirror_mode": {
    "name": "ipython",
    "version": 3
   },
   "file_extension": ".py",
   "mimetype": "text/x-python",
   "name": "python",
   "nbconvert_exporter": "python",
   "pygments_lexer": "ipython3",
   "version": "3.11.2"
  }
 },
 "nbformat": 4,
 "nbformat_minor": 5
}
