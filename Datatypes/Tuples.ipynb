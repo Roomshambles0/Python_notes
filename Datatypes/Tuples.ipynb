{
 "cells": [
  {
   "cell_type": "code",
   "execution_count": 27,
   "id": "11b2f0ef",
   "metadata": {},
   "outputs": [
    {
     "name": "stdout",
     "output_type": "stream",
     "text": [
      "('apple', 'banana', 'cherry')\n"
     ]
    }
   ],
   "source": [
    "# Tuples are same as list \n",
    "# but tuples are immutable\n",
    "\n",
    "\n",
    "thistuple = (\"apple\", \"banana\", \"cherry\")\n",
    "print(thistuple)"
   ]
  },
  {
   "cell_type": "code",
   "execution_count": 28,
   "id": "e8accc29",
   "metadata": {},
   "outputs": [
    {
     "name": "stdout",
     "output_type": "stream",
     "text": [
      "('apple', 'banana', 'cherry', 'Mango')\n",
      "('apple', 'banana', 'cherry', 'Mango', 'orange')\n",
      "('banana', 'cherry', 'Mango', 'orange')\n"
     ]
    }
   ],
   "source": [
    "# updating values in tuples \n",
    "\n",
    "# tuples are immutables so we first have to convert them into lists\n",
    "# and then perform addittion and remove operation \n",
    "# after adding and removing again we have to convert them into tuple\n",
    "\n",
    "\n",
    "x = list(thistuple)\n",
    "x.append(\"Mango\")\n",
    "thistuple = tuple(x)\n",
    "print(thistuple)\n",
    "\n",
    "tuple1 = (\"orange\",) # here we don't have to convert tuple to list \n",
    "# When creating a tuple with only one item, remember to include a comma \n",
    "# after the item, \n",
    "# otherwise it will not be identified as a tuple.\n",
    "\n",
    "\n",
    "thistuple = thistuple + tuple1\n",
    "print(thistuple)\n",
    "\n",
    "# removing items from tuple\n",
    "y = list(thistuple)\n",
    "y.remove(\"apple\")\n",
    "thistuple = tuple(y)\n",
    "print(thistuple)\n",
    "\n",
    "# delete the tuple\n",
    "# del thistuple\n",
    "# print(thistuple)  this will give error as tuple does not exists "
   ]
  },
  {
   "cell_type": "code",
   "execution_count": 33,
   "id": "2527e524",
   "metadata": {},
   "outputs": [
    {
     "name": "stdout",
     "output_type": "stream",
     "text": [
      "Piyush Iba Chaitanya\n",
      "apple\n",
      "['banana', 'cherry', 'strawberry']\n",
      "raspberry\n"
     ]
    }
   ],
   "source": [
    "# unacking of tuples\n",
    "# when we create tuples it is called as packing of tuple\n",
    "\n",
    "tuple1 = (\"Piyush\",\"Iba\",\"Chaitanya\") #packing of tuples\n",
    "\n",
    "# unpacking of tuples \n",
    "## when we extract values back to varible by destructuring tuple this \n",
    "# this is called unpacking of values\n",
    "\n",
    "## condition is you must have same number of variables to left side as\n",
    "# values in tuples\n",
    "\n",
    "a,b,c = tuple1\n",
    "print(a,b,c)\n",
    "\n",
    "# using astrix * \n",
    "# if you dont have same number of variables to the left side then use astrix \n",
    "# before the variable name and values are assigned there\n",
    "# you can only give astrix to only one variable\n",
    "\n",
    "fruits = (\"apple\", \"banana\", \"cherry\", \"strawberry\", \"raspberry\")\n",
    "\n",
    "# If the asterisk is added to another variable name than the last, Python will assign values to the variable \n",
    "# until the number of values left matches the number of variables left.\n",
    "\n",
    "(green, *yellow, red) = fruits\n",
    "\n",
    "print(green)\n",
    "print(yellow)\n",
    "print(red)"
   ]
  },
  {
   "cell_type": "code",
   "execution_count": 35,
   "id": "bcc5e1fb",
   "metadata": {},
   "outputs": [
    {
     "name": "stdout",
     "output_type": "stream",
     "text": [
      "apple\n",
      "banana\n",
      "cherry\n"
     ]
    }
   ],
   "source": [
    "# loop through\n",
    "\n",
    "thistuple = (\"apple\", \"banana\", \"cherry\")\n",
    "for i in range(len(thistuple)):\n",
    "  print(thistuple[i])"
   ]
  },
  {
   "cell_type": "code",
   "execution_count": 38,
   "id": "0cbd2df1",
   "metadata": {},
   "outputs": [
    {
     "name": "stdout",
     "output_type": "stream",
     "text": [
      "('a', 'b', 'c', 1, 2, 3)\n",
      "('apple', 'banana', 'cherry', 'apple', 'banana', 'cherry', 'apple', 'banana', 'cherry', 'apple', 'banana', 'cherry', 'apple', 'banana', 'cherry')\n"
     ]
    }
   ],
   "source": [
    "# join tuples\n",
    "# additopm\n",
    "tuple1 = (\"a\", \"b\" , \"c\")\n",
    "tuple2 = (1, 2, 3)\n",
    "\n",
    "tuple3 = tuple1 + tuple2\n",
    "print(tuple3)\n",
    "\n",
    "# Multiply tuple\n",
    "fruits = (\"apple\", \"banana\", \"cherry\")\n",
    "mytuple = fruits * 5\n",
    "\n",
    "print(mytuple)\n"
   ]
  },
  {
   "cell_type": "code",
   "execution_count": 43,
   "id": "fd9c90aa",
   "metadata": {},
   "outputs": [
    {
     "name": "stdout",
     "output_type": "stream",
     "text": [
      "2\n",
      "5\n"
     ]
    }
   ],
   "source": [
    "# methods\n",
    "\n",
    "#.count()\n",
    "## The count() method returns the number of times a specified value appears \n",
    "# in the tuple.\n",
    "\n",
    "thistuple = (1, 3, 7, 8, 7, 5, 4, 6, 8, 5)\n",
    "\n",
    "x = thistuple.count(5)\n",
    "\n",
    "print(x)\n",
    "\n",
    "\n",
    "# .index()\n",
    "thistuple = (1, 3, 7, 8, 7, 5, 4, 6, 8, 5)\n",
    "\n",
    "#The index() method finds the first occurrence of the specified value.\n",
    "#The index() method raises an exception if the value is not found\n",
    "\n",
    "x = thistuple.index(5)\n",
    "\n",
    "print(x)"
   ]
  },
  {
   "cell_type": "code",
   "execution_count": null,
   "id": "32ddf827",
   "metadata": {},
   "outputs": [],
   "source": []
  }
 ],
 "metadata": {
  "kernelspec": {
   "display_name": "Python 3 (ipykernel)",
   "language": "python",
   "name": "python3"
  },
  "language_info": {
   "codemirror_mode": {
    "name": "ipython",
    "version": 3
   },
   "file_extension": ".py",
   "mimetype": "text/x-python",
   "name": "python",
   "nbconvert_exporter": "python",
   "pygments_lexer": "ipython3",
   "version": "3.11.2"
  }
 },
 "nbformat": 4,
 "nbformat_minor": 5
}
