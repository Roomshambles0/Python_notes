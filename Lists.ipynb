{
 "cells": [
  {
   "cell_type": "code",
   "execution_count": 17,
   "id": "9418e10a",
   "metadata": {},
   "outputs": [
    {
     "name": "stdout",
     "output_type": "stream",
     "text": [
      "['Piyush', 'Ishan', 'Nilay']\n"
     ]
    }
   ],
   "source": [
    "#list is collection of differnt data types \n",
    "#growable, mutable , duplicates allowed,Ordered and indexed,\n",
    "#heterogeneous obejects allowed\n",
    "\n",
    "list1 = [\"Piyush\",\"Ishan\",\"Nilay\"]\n",
    "print(list1)\n"
   ]
  },
  {
   "cell_type": "code",
   "execution_count": 18,
   "id": "479b62cd",
   "metadata": {},
   "outputs": [
    {
     "name": "stdout",
     "output_type": "stream",
     "text": [
      "3\n",
      "Ishan\n"
     ]
    }
   ],
   "source": [
    "#accessing objects\n",
    "\n",
    "print(len(list1))\n",
    "\n",
    "print(list1[1])\n",
    "\n"
   ]
  },
  {
   "cell_type": "code",
   "execution_count": 19,
   "id": "df3dd11a",
   "metadata": {},
   "outputs": [
    {
     "name": "stdout",
     "output_type": "stream",
     "text": [
      "['Piyush', 'Ishan', 'Nilay', 'Varad']\n",
      "['Piyush', 'Ishan', 'Nilay', 'Varad', 'Chinmay', 'Chaitanya']\n",
      "['Piyush', 'Ishan', 'Ojas', 'Nilay', 'Varad', 'Chinmay', 'Chaitanya']\n"
     ]
    }
   ],
   "source": [
    "# adding items to list\n",
    "\n",
    "list1.append(\"Varad\")\n",
    "print(list1)\n",
    "\n",
    "list1.extend([\"Chinmay\",\"Chaitanya\"])\n",
    "print(list1)\n",
    "\n",
    "list1.insert(2,\"Ojas\")\n",
    "print(list1)\n",
    "\n",
    "\n"
   ]
  },
  {
   "cell_type": "code",
   "execution_count": 20,
   "id": "d194391a",
   "metadata": {},
   "outputs": [
    {
     "name": "stdout",
     "output_type": "stream",
     "text": [
      "['Piyush', 'Isha', 'Ojas', 'Nilay', 'Varad', 'Chinmay', 'Chaitanya']\n",
      "['Piyush', 'IshanK', 'OjasK', 'Nilay', 'Varad', 'Chinmay', 'Chaitanya']\n"
     ]
    }
   ],
   "source": [
    "#updating list items\n",
    "\n",
    "list1[1] = \"Isha\"\n",
    "print(list1)\n",
    "\n",
    "\n",
    "#before updating with slicing operator you need to\n",
    "list1[1:3] = [\"IshanK\",\"OjasK\"]\n",
    "print(list1)\n",
    "# number of elements in slicing operator and in list must be same\n"
   ]
  },
  {
   "cell_type": "code",
   "execution_count": 21,
   "id": "af4aca93",
   "metadata": {},
   "outputs": [
    {
     "name": "stdout",
     "output_type": "stream",
     "text": [
      "['IshanK', 'OjasK', 'Nilay', 'Varad', 'Chinmay', 'Chaitanya']\n",
      "['IshanK', 'Nilay', 'Varad', 'Chinmay', 'Chaitanya']\n",
      "['IshanK', 'Nilay', 'Varad', 'Chinmay']\n",
      "['IshanK', 'Nilay', 'Chinmay']\n",
      "[]\n"
     ]
    }
   ],
   "source": [
    "#removing the items from lists\n",
    "\n",
    "list1.remove(\"Piyush\")\n",
    "print(list1)\n",
    "\n",
    "list1.pop(1) # removes specified item\n",
    "print(list1)\n",
    "\n",
    "list1.pop() # removes last item\n",
    "print(list1)\n",
    "\n",
    "del list1[2]\n",
    "print(list1)\n",
    "\n",
    "list1.clear()\n",
    "print(list1)"
   ]
  },
  {
   "cell_type": "code",
   "execution_count": 28,
   "id": "86766a3b",
   "metadata": {},
   "outputs": [
    {
     "name": "stdout",
     "output_type": "stream",
     "text": [
      "apple\n",
      "banana\n",
      "cherry\n",
      "apple\n",
      "banana\n",
      "cherry\n",
      "['apple', 'banana', 'mango']\n"
     ]
    }
   ],
   "source": [
    "# loop through lists\n",
    "\n",
    "thislist = [\"apple\", \"banana\", \"cherry\"]\n",
    "for i in range(len(thislist)):\n",
    "    print(thislist[i])\n",
    "    \n",
    "thislist = [\"apple\", \"banana\", \"cherry\"]\n",
    "for x in thislist:\n",
    "    print(x)\n",
    "    \n",
    "# comprehension\n",
    "# crete new list based on previous list or values\n",
    "fruits = [\"apple\", \"banana\", \"cherry\", \"kiwi\", \"mango\"]\n",
    "\n",
    "newlist = [x for x in fruits if \"a\" in x]\n",
    "\n",
    "print(newlist)"
   ]
  },
  {
   "cell_type": "code",
   "execution_count": 34,
   "id": "2c13d967",
   "metadata": {},
   "outputs": [
    {
     "name": "stdout",
     "output_type": "stream",
     "text": [
      "[0, 1, 2, 3, 4, 5, 6, 7, 8, 9]\n",
      "[9, 8, 7, 6, 5, 4, 3, 2, 1, 0]\n",
      "[0, 1, 2, 3, 4, 5, 6, 7, 8, 9]\n",
      "['banana', 'cherry', 'Kiwi', 'Orange']\n",
      "[50, 65, 23, 82, 100]\n"
     ]
    }
   ],
   "source": [
    "# Sorting of lists\n",
    "thislist = [1,2,3,4,5,6,7,0,9,8]\n",
    "thislist.sort()\n",
    "print(thislist)\n",
    "\n",
    "thislist.sort(reverse=True)\n",
    "print(thislist)\n",
    "\n",
    "thislist.reverse()\n",
    "print(thislist)\n",
    "\n",
    "thislist = [\"banana\", \"Orange\", \"Kiwi\", \"cherry\"]\n",
    "thislist.sort(key = str.lower)\n",
    "print(thislist)\n",
    "\n",
    "#You can also customize your own function by using the keyword argument key = function.\n",
    "#The function will return a number that will be used \n",
    "#to sort the list (the lowest number first):\n",
    "\n",
    "def myfunc(n):\n",
    "    return abs(n - 50)\n",
    "\n",
    "thislist = [100, 50, 65, 82, 23]\n",
    "thislist.sort(key = myfunc)\n",
    "print(thislist)\n",
    "\n"
   ]
  },
  {
   "cell_type": "code",
   "execution_count": 35,
   "id": "cb4dee9e",
   "metadata": {},
   "outputs": [
    {
     "name": "stdout",
     "output_type": "stream",
     "text": [
      "['apple', 'banana', 'cherry']\n",
      "['apple', 'banana', 'cherry']\n"
     ]
    }
   ],
   "source": [
    "#copy lists\n",
    "\n",
    "thislist = [\"apple\", \"banana\", \"cherry\"]\n",
    "mylist = thislist.copy()\n",
    "print(mylist)\n",
    "\n",
    "thislist = [\"apple\", \"banana\", \"cherry\"]\n",
    "mylist = list(thislist)\n",
    "print(mylist)"
   ]
  },
  {
   "cell_type": "code",
   "execution_count": 36,
   "id": "feac98e1",
   "metadata": {},
   "outputs": [
    {
     "name": "stdout",
     "output_type": "stream",
     "text": [
      "['a', 'b', 'c', 1, 2, 3]\n"
     ]
    }
   ],
   "source": [
    "#join lists\n",
    "\n",
    "list1 = [\"a\", \"b\", \"c\"]\n",
    "list2 = [1, 2, 3]\n",
    "\n",
    "list3 = list1 + list2\n",
    "print(list3)"
   ]
  },
  {
   "cell_type": "code",
   "execution_count": null,
   "id": "8fc52da2",
   "metadata": {},
   "outputs": [],
   "source": []
  }
 ],
 "metadata": {
  "kernelspec": {
   "display_name": "Python 3 (ipykernel)",
   "language": "python",
   "name": "python3"
  },
  "language_info": {
   "codemirror_mode": {
    "name": "ipython",
    "version": 3
   },
   "file_extension": ".py",
   "mimetype": "text/x-python",
   "name": "python",
   "nbconvert_exporter": "python",
   "pygments_lexer": "ipython3",
   "version": "3.11.2"
  }
 },
 "nbformat": 4,
 "nbformat_minor": 5
}
