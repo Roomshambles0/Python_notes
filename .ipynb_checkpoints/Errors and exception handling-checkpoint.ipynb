{
 "cells": [
  {
   "cell_type": "code",
   "execution_count": null,
   "id": "8e784f80",
   "metadata": {},
   "outputs": [],
   "source": [
    "##with the error handling we can let script to continue running with \n",
    "##wrong code even if there is error\n",
    "##but it shows error message\n",
    "##We can use three keywords in this \n",
    "#try,except,finally"
   ]
  },
  {
   "cell_type": "code",
   "execution_count": null,
   "id": "f6363ccc",
   "metadata": {},
   "outputs": [],
   "source": [
    "try:\n",
    "#you want to attemt this code\n",
    "#may have and error\n",
    "    result = 10 + 10\n",
    "except:\n",
    "    print(\"you aren't adding correctly...!\")\n",
    "else:\n",
    "    print(\"Add went well..!\")"
   ]
  },
  {
   "cell_type": "code",
   "execution_count": null,
   "id": "809d30a9",
   "metadata": {},
   "outputs": [],
   "source": [
    "result"
   ]
  },
  {
   "cell_type": "code",
   "execution_count": null,
   "id": "ddaf5fd3",
   "metadata": {},
   "outputs": [],
   "source": []
  },
  {
   "cell_type": "code",
   "execution_count": null,
   "id": "83f8322e",
   "metadata": {},
   "outputs": [],
   "source": []
  },
  {
   "cell_type": "code",
   "execution_count": null,
   "id": "e6a63674",
   "metadata": {},
   "outputs": [],
   "source": [
    "try:\n",
    "     f = open('file',mode ='w')\n",
    "     f.write('this file is created')\n",
    "\n",
    "except TypeError:\n",
    "    print('You have an other errors')\n",
    "finally:\n",
    "    print('I run anyway')"
   ]
  },
  {
   "cell_type": "code",
   "execution_count": 4,
   "id": "97ca7f0e",
   "metadata": {},
   "outputs": [],
   "source": [
    "def ask_for_int():\n",
    "  while(True):\n",
    "    try:\n",
    "        i = int(input(\"Provide a number: \"))\n",
    "    except:\n",
    "        print(\"woops wrong input.....\")\n",
    "        continue\n",
    "    else:\n",
    "        print(\"input is correct\")\n",
    "        break\n",
    "    finally:\n",
    "        print(\"i run anyway\")"
   ]
  },
  {
   "cell_type": "code",
   "execution_count": 5,
   "id": "e6e28ad8",
   "metadata": {},
   "outputs": [
    {
     "name": "stdout",
     "output_type": "stream",
     "text": [
      "Provide a number: gh\n",
      "woops wrong input.....\n",
      "i run anyway\n",
      "Provide a number: drfg\n",
      "woops wrong input.....\n",
      "i run anyway\n",
      "Provide a number: 1\n",
      "input is correct\n",
      "i run anyway\n"
     ]
    }
   ],
   "source": [
    "ask_for_int()"
   ]
  },
  {
   "cell_type": "code",
   "execution_count": null,
   "id": "b7644bf3",
   "metadata": {},
   "outputs": [],
   "source": []
  },
  {
   "cell_type": "code",
   "execution_count": null,
   "id": "e48a584e",
   "metadata": {},
   "outputs": [],
   "source": []
  },
  {
   "cell_type": "code",
   "execution_count": 3,
   "id": "f0f8b33c",
   "metadata": {},
   "outputs": [],
   "source": [
    "def ask():\n",
    "    while(True):\n",
    "        try:\n",
    "            inp = int(input(\"type an integer: \"))\n",
    "            sq =inp**2\n",
    "        except:\n",
    "            print(\"sorry an error occured..!\")\n",
    "            continue\n",
    "        else:\n",
    "            print(\"Square of the is: \",sq)\n",
    "            break"
   ]
  },
  {
   "cell_type": "code",
   "execution_count": 4,
   "id": "386b1ee3",
   "metadata": {},
   "outputs": [
    {
     "name": "stdout",
     "output_type": "stream",
     "text": [
      "type an integer: f\n",
      "sorry an error occured..!\n",
      "type an integer: sdf\n",
      "sorry an error occured..!\n",
      "type an integer: 4\n",
      "Square of the is:  16\n"
     ]
    }
   ],
   "source": [
    "ask()"
   ]
  },
  {
   "cell_type": "code",
   "execution_count": 7,
   "id": "79c8cec0",
   "metadata": {},
   "outputs": [
    {
     "name": "stdout",
     "output_type": "stream",
     "text": [
      "2\n",
      "I am done\n"
     ]
    }
   ],
   "source": [
    "try:\n",
    "    r = 1+1\n",
    "    print(r)\n",
    "except:\n",
    "    print(\"sorry an error occured\")\n",
    "finally:\n",
    "    print('I am done')\n"
   ]
  },
  {
   "cell_type": "code",
   "execution_count": null,
   "id": "1af783e6",
   "metadata": {},
   "outputs": [],
   "source": []
  }
 ],
 "metadata": {
  "kernelspec": {
   "display_name": "Python 3 (ipykernel)",
   "language": "python",
   "name": "python3"
  },
  "language_info": {
   "codemirror_mode": {
    "name": "ipython",
    "version": 3
   },
   "file_extension": ".py",
   "mimetype": "text/x-python",
   "name": "python",
   "nbconvert_exporter": "python",
   "pygments_lexer": "ipython3",
   "version": "3.11.2"
  }
 },
 "nbformat": 4,
 "nbformat_minor": 5
}
