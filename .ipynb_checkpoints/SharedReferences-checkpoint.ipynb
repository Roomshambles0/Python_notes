{
 "cells": [
  {
   "cell_type": "code",
   "execution_count": 2,
   "id": "283baebc",
   "metadata": {},
   "outputs": [],
   "source": [
    "\n",
    "x = 5 \n",
    "y = x\n",
    "\n",
    "## In above example reference is shared \n",
    "# Python creates object to represent value 5\n",
    "# then creates variable x to reference the value 5 \n",
    "# then in second statement x shares its reference to y variable\n",
    "# in this statement instead of creating another object to represent 5 \n",
    "# y points toward 5 object that is already in the memory \n",
    "\n",
    "\n",
    "# if there is object in memory with no reference \n",
    "# then its space is cleared with garbage collector"
   ]
  },
  {
   "cell_type": "code",
   "execution_count": 3,
   "id": "72eac23b",
   "metadata": {},
   "outputs": [
    {
     "name": "stdout",
     "output_type": "stream",
     "text": [
      "l1:  [1, 2, 3, 4, 5, 6, 7]\n",
      "l2:  [1, 2, 3, 4, 5, 6, 7]\n"
     ]
    }
   ],
   "source": [
    "# Shared reference and in-place changes\n",
    "\n",
    "# object types such as lists, dictionaries, sets are mutable \n",
    "# if you share preferences of one list object to another list objects\n",
    "# and you make changes with one reference then the value will be changed \n",
    "# for all other references\n",
    "\n",
    "l1 = [1,2,3,4,5,6]\n",
    "l2 = l1\n",
    "\n",
    "l2.append(7)\n",
    "\n",
    "print(\"l1: \",l1)\n",
    "print(\"l2: \",l2)"
   ]
  },
  {
   "cell_type": "code",
   "execution_count": 1,
   "id": "7a639df4",
   "metadata": {},
   "outputs": [
    {
     "name": "stdout",
     "output_type": "stream",
     "text": [
      "1479587564800\n",
      "1479587564800\n"
     ]
    }
   ],
   "source": [
    "dict1 = {\"Piyush\":1,\"ishan\":8}\n",
    "dict2 = dict1\n",
    "\n",
    "\n",
    "print(id(dict1))\n",
    "print(id(dict2))"
   ]
  },
  {
   "cell_type": "code",
   "execution_count": 4,
   "id": "c698e7a4",
   "metadata": {},
   "outputs": [
    {
     "name": "stdout",
     "output_type": "stream",
     "text": [
      "== operator  True\n",
      "is operator:  True\n"
     ]
    }
   ],
   "source": [
    "#differnce betweeen is and \"==\" operator\n",
    "\n",
    "# \"==\" operator in python returns true if both operands have same values\n",
    "# \"is\" operator returns true if both operands pointing towards same value in\n",
    "# memory\n",
    "\n",
    "# Exception: when we create small integers or strings these are catched in\n",
    "# memory and reused so they refer to the same object\n",
    "\n",
    "string = \"hello\"\n",
    "string1 = \"hello\"\n",
    "\n",
    "print(\"== operator \",string == string1)\n",
    "print(\"is operator: \", string is string1)"
   ]
  },
  {
   "cell_type": "code",
   "execution_count": null,
   "id": "c10fa5ec",
   "metadata": {},
   "outputs": [],
   "source": []
  }
 ],
 "metadata": {
  "kernelspec": {
   "display_name": "Python 3 (ipykernel)",
   "language": "python",
   "name": "python3"
  },
  "language_info": {
   "codemirror_mode": {
    "name": "ipython",
    "version": 3
   },
   "file_extension": ".py",
   "mimetype": "text/x-python",
   "name": "python",
   "nbconvert_exporter": "python",
   "pygments_lexer": "ipython3",
   "version": "3.11.2"
  }
 },
 "nbformat": 4,
 "nbformat_minor": 5
}
