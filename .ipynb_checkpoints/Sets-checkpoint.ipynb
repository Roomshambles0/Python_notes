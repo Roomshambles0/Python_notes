{
 "cells": [
  {
   "cell_type": "code",
   "execution_count": 2,
   "id": "ba351912",
   "metadata": {},
   "outputs": [],
   "source": [
    "## unordered unindexed and unchangable data type"
   ]
  },
  {
   "cell_type": "code",
   "execution_count": 3,
   "id": "0d3b1ae2",
   "metadata": {},
   "outputs": [],
   "source": [
    "# duplicates not allowed \n",
    "# set treats true = 1 and false = 0 same\n"
   ]
  },
  {
   "cell_type": "code",
   "execution_count": 13,
   "id": "8dad9887",
   "metadata": {},
   "outputs": [],
   "source": [
    "set1 = {\"abc\",34,True,40,\"male\"}"
   ]
  },
  {
   "cell_type": "code",
   "execution_count": 14,
   "id": "c8025587",
   "metadata": {},
   "outputs": [
    {
     "name": "stdout",
     "output_type": "stream",
     "text": [
      "True\n"
     ]
    }
   ],
   "source": [
    "# accessing in set \n",
    "# # cannot access by reffering to index or key \n",
    "\n",
    "thisset = {\"apple\", \"banana\", \"cherry\"}\n",
    "\n",
    "print(\"banana\"  in thisset)\n"
   ]
  },
  {
   "cell_type": "code",
   "execution_count": 15,
   "id": "61ae52ae",
   "metadata": {},
   "outputs": [
    {
     "name": "stdout",
     "output_type": "stream",
     "text": [
      "{'orange', 'banana', 'apple', 'cherry'}\n",
      "{'pineapple', 'banana', 'apple', 'mango', 'cherry', 'papaya', 'orange'}\n"
     ]
    }
   ],
   "source": [
    "# You can add items \n",
    "# but you cannot edit items in set\n",
    "\n",
    "thisset.add(\"orange\")\n",
    "print(thisset)\n",
    "\n",
    "# by update method you can add two sets together\n",
    "tropical = {\"pineapple\", \"mango\", \"papaya\"}\n",
    "thisset.update(tropical)\n",
    "\n",
    "print(thisset)"
   ]
  },
  {
   "cell_type": "code",
   "execution_count": 16,
   "id": "1b3d685d",
   "metadata": {},
   "outputs": [
    {
     "name": "stdout",
     "output_type": "stream",
     "text": [
      "{'pineapple', 'banana', 'apple', 'mango', 'cherry', 'papaya'}\n",
      "{'pineapple', 'apple', 'mango', 'cherry', 'papaya'}\n",
      "{'apple', 'mango', 'cherry', 'papaya'}\n",
      "set()\n"
     ]
    }
   ],
   "source": [
    "## removing items in set \n",
    "\n",
    "thisset.remove('orange') # remove method will give error\n",
    "print(thisset)           # if the item is not present in set\n",
    "\n",
    "thisset.discard('banana') # discard will not give any error if item is not \n",
    "print(thisset)            # present\n",
    "    \n",
    "thisset.pop() # removes random item in set\n",
    "print(thisset)\n",
    "\n",
    "thisset.clear() # empties the list\n",
    "print(thisset)\n",
    "\n",
    "del tropical"
   ]
  },
  {
   "cell_type": "code",
   "execution_count": 19,
   "id": "d50c5213",
   "metadata": {},
   "outputs": [
    {
     "name": "stdout",
     "output_type": "stream",
     "text": [
      "banana\n",
      "apple\n",
      "cherry\n"
     ]
    }
   ],
   "source": [
    "# looping or iterating on set element\n",
    "\n",
    "set1 = {\"apple\", \"banana\", \"cherry\"}\n",
    "thisset.update(set1)\n",
    "\n",
    "for x in thisset:\n",
    "    print(x)\n"
   ]
  },
  {
   "cell_type": "code",
   "execution_count": 23,
   "id": "3226d9e9",
   "metadata": {},
   "outputs": [
    {
     "name": "stdout",
     "output_type": "stream",
     "text": [
      "{1, 'a', 2, 3, 'c', 'b'}\n",
      "{1, 'a', 2, 3, 'c', 'b'}\n",
      "{1, 2, 'a', 3, 'c', 'b'}\n"
     ]
    }
   ],
   "source": [
    "## join sets\n",
    "\n",
    "# Union of sets\n",
    "# .set(set1,set2,...) multiple sets\n",
    "# exclude duplicate items\n",
    "\n",
    "set1 = {\"a\", \"b\", \"c\",1,}\n",
    "set2 = {1, 2, 3}\n",
    "tuple1 = (1,2,3)\n",
    "\n",
    "set3 = set1.union(set2)\n",
    "print(set3)\n",
    "\n",
    "set3 = set1 | set2\n",
    "print(set3)\n",
    "\n",
    "#union with tuple \n",
    "# cannot tuple with | operator do with .union method\n",
    "\n",
    "set4 = set1.union(tuple1)\n",
    "print(set4)"
   ]
  },
  {
   "cell_type": "code",
   "execution_count": null,
   "id": "618773cf",
   "metadata": {},
   "outputs": [],
   "source": []
  }
 ],
 "metadata": {
  "kernelspec": {
   "display_name": "Python 3 (ipykernel)",
   "language": "python",
   "name": "python3"
  },
  "language_info": {
   "codemirror_mode": {
    "name": "ipython",
    "version": 3
   },
   "file_extension": ".py",
   "mimetype": "text/x-python",
   "name": "python",
   "nbconvert_exporter": "python",
   "pygments_lexer": "ipython3",
   "version": "3.11.2"
  }
 },
 "nbformat": 4,
 "nbformat_minor": 5
}
