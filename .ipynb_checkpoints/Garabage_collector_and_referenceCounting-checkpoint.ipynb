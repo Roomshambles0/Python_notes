{
 "cells": [
  {
   "cell_type": "code",
   "execution_count": 1,
   "id": "9d057489",
   "metadata": {},
   "outputs": [],
   "source": [
    "# Python manages memory based on two strategies:\n",
    "\n",
    "# Garbage collection\n",
    "# Reference counting\n",
    "\n",
    "## Reference Counting\n",
    "# Reference counting: It means that number of references that pointed\n",
    "# to the object\n",
    "\n",
    "# When an object’s reference count reaches zero, it becomes \n",
    "# un-referenceable and its memory can be freed up.\n",
    "\n",
    "\n",
    "#simple ref count\n",
    "\n",
    "x = [1,2]\n",
    "# increment reference count\n",
    "y = x\n",
    "\n",
    "# decrement reference count\n",
    "y = None\n",
    "\n",
    "# Cycle reference\n",
    "# If an object is referenced by another object, then its counter is set to a \n",
    "# non-zero number and the object can’t be garbage collected. \n",
    "# If the counter reaches zero, the garbage collector will free that object. \n",
    "# Create two objects that refer to each other\n",
    "x = [1, 2, 3]\n",
    "y = [4, 5, 6]\n",
    "x.append(y)\n",
    "y.append(x)"
   ]
  },
  {
   "cell_type": "code",
   "execution_count": 2,
   "id": "fc1dd713",
   "metadata": {},
   "outputs": [],
   "source": [
    "# Garbage collector\n",
    "\n",
    "# Garbage collection is a memory management technique used in programming \n",
    "# languages to automatically reclaim memory that is no longer accessible \n",
    "# or in use by the application.\n",
    "#It helps prevent memory leaks, optimize \n",
    "# memory usage, and ensure efficient memory allocation for the program.\n",
    "\n",
    "\n",
    "# Weak ref \n",
    "# The reference that does not protect object from getting garbage collected is\n",
    "# called as week_ref\n",
    "\n"
   ]
  },
  {
   "cell_type": "code",
   "execution_count": 5,
   "id": "069db9dd",
   "metadata": {},
   "outputs": [
    {
     "data": {
      "text/plain": [
       "'\\n 1. Python uses interpreter that interpretes code line by line \\n2. in interpreter there are two parts:\\n  1. \\n'"
      ]
     },
     "execution_count": 5,
     "metadata": {},
     "output_type": "execute_result"
    }
   ],
   "source": [
    "# Python under the hood\n",
    "\"\"\"\n",
    "1. Python uses interpreter that interpretes code line by line \n",
    "2. in interpreter there are two parts:\n",
    "          1.Compiler \n",
    "          2.PVM (Python Virtual Machine)\n",
    "          \n",
    "A. Compiler compiles code in byte code\n",
    "B. Later that byte code is converted in Machine code by Python \n",
    "C. Byte code found in __pycache__ folder \n",
    "D. extention of that file is .cpython-312.pyc\n",
    "E. A variable holds the memory address to a value.\n",
    "\n",
    "\"\"\"\n",
    " \n"
   ]
  },
  {
   "cell_type": "code",
   "execution_count": null,
   "id": "d9a6b250",
   "metadata": {},
   "outputs": [],
   "source": []
  }
 ],
 "metadata": {
  "kernelspec": {
   "display_name": "Python 3 (ipykernel)",
   "language": "python",
   "name": "python3"
  },
  "language_info": {
   "codemirror_mode": {
    "name": "ipython",
    "version": 3
   },
   "file_extension": ".py",
   "mimetype": "text/x-python",
   "name": "python",
   "nbconvert_exporter": "python",
   "pygments_lexer": "ipython3",
   "version": "3.11.2"
  }
 },
 "nbformat": 4,
 "nbformat_minor": 5
}
