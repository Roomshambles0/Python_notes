{
 "cells": [
  {
   "cell_type": "markdown",
   "id": "22a7d540",
   "metadata": {},
   "source": [
    "# Class keyword\n",
    "\n"
   ]
  },
  {
   "cell_type": "code",
   "execution_count": 1,
   "id": "ea1ffe0c",
   "metadata": {},
   "outputs": [],
   "source": [
    "##Using class keyword to create user defined objects"
   ]
  },
  {
   "cell_type": "code",
   "execution_count": 24,
   "id": "0c29567e",
   "metadata": {},
   "outputs": [],
   "source": [
    "#functions inside a class are called as methods\n",
    "#self keyword connects method to the instance of the class it called automatically \n",
    "class Horse():\n",
    "    \n",
    "#__init__ is the constructor of the class\n",
    "\n",
    "#CLASS OBJECT ATTRIBUTE\n",
    "#SAME FOR ANY INSTANCE OR CLASS\n",
    "    species = 'mammal'\n",
    "\n",
    "    def __init__(self,breed,name,colour):\n",
    "        #Attribute\n",
    "        #We take in the argument \n",
    "        #Assign it using self.Attribute_name\n",
    "        self.breed = breed\n",
    "        self.name = name\n",
    "        self.colour = colour\n",
    "\n",
    "#ACTIONS OR OPERATIONS -> METHODS\n",
    "    def bark(self,number):\n",
    "        print('WOOOFFF...! my name is {} and the number is {}'.format(self.name,number))"
   ]
  },
  {
   "cell_type": "code",
   "execution_count": 25,
   "id": "2dd03208",
   "metadata": {},
   "outputs": [],
   "source": [
    "\n",
    "##init method is called automatically when the object is created\n",
    "my_horse = Horse(breed ='Arabian Horse',name='Thunderbolt',colour ='Black')"
   ]
  },
  {
   "cell_type": "code",
   "execution_count": 26,
   "id": "8642728b",
   "metadata": {},
   "outputs": [
    {
     "data": {
      "text/plain": [
       "'mammal'"
      ]
     },
     "execution_count": 26,
     "metadata": {},
     "output_type": "execute_result"
    }
   ],
   "source": [
    "my_horse.species"
   ]
  },
  {
   "cell_type": "code",
   "execution_count": 27,
   "id": "e0b7970a",
   "metadata": {},
   "outputs": [
    {
     "data": {
      "text/plain": [
       "'Thunderbolt'"
      ]
     },
     "execution_count": 27,
     "metadata": {},
     "output_type": "execute_result"
    }
   ],
   "source": [
    "my_horse.name"
   ]
  },
  {
   "cell_type": "code",
   "execution_count": 28,
   "id": "6c1f2354",
   "metadata": {},
   "outputs": [
    {
     "data": {
      "text/plain": [
       "'Arabian Horse'"
      ]
     },
     "execution_count": 28,
     "metadata": {},
     "output_type": "execute_result"
    }
   ],
   "source": [
    "my_horse.breed"
   ]
  },
  {
   "cell_type": "code",
   "execution_count": 29,
   "id": "6d29912b",
   "metadata": {},
   "outputs": [
    {
     "data": {
      "text/plain": [
       "'Black'"
      ]
     },
     "execution_count": 29,
     "metadata": {},
     "output_type": "execute_result"
    }
   ],
   "source": [
    "my_horse.colour"
   ]
  },
  {
   "cell_type": "code",
   "execution_count": 31,
   "id": "33b63154",
   "metadata": {},
   "outputs": [
    {
     "name": "stdout",
     "output_type": "stream",
     "text": [
      "WOOOFFF...! my name is Thunderbolt and the number is 180\n"
     ]
    }
   ],
   "source": [
    "my_horse.bark(180)"
   ]
  },
  {
   "cell_type": "code",
   "execution_count": 41,
   "id": "c5bd702e",
   "metadata": {},
   "outputs": [],
   "source": [
    "class Circle():\n",
    "    #CLASS OBJECT \n",
    "    pi =3.14\n",
    "    def __init__(self,radius=2,center='O'):\n",
    "        self.radius = radius\n",
    "        self.center = center\n",
    "        \n",
    "    def Circumference(self):\n",
    "        C = self.radius*2*self.pi\n",
    "        print(\"Circumference of the circle is with center {} is {} \".format(self.center,C))\n",
    "    def Area(self):\n",
    "        A = self.pi*self.radius*self.radius\n",
    "        print(\"Area of circle with center {} is {}\".format(self.center,A))"
   ]
  },
  {
   "cell_type": "code",
   "execution_count": 42,
   "id": "63f39910",
   "metadata": {},
   "outputs": [],
   "source": [
    "Cl =Circle()"
   ]
  },
  {
   "cell_type": "code",
   "execution_count": 43,
   "id": "5d06f314",
   "metadata": {},
   "outputs": [
    {
     "data": {
      "text/plain": [
       "'O'"
      ]
     },
     "execution_count": 43,
     "metadata": {},
     "output_type": "execute_result"
    }
   ],
   "source": [
    "Cl.center"
   ]
  },
  {
   "cell_type": "code",
   "execution_count": 44,
   "id": "1a1c1b37",
   "metadata": {},
   "outputs": [
    {
     "name": "stdout",
     "output_type": "stream",
     "text": [
      "Area of circle with center O is 12.56\n"
     ]
    }
   ],
   "source": [
    "Cl.Area()"
   ]
  },
  {
   "cell_type": "code",
   "execution_count": 45,
   "id": "25f5300b",
   "metadata": {},
   "outputs": [
    {
     "name": "stdout",
     "output_type": "stream",
     "text": [
      "Circumference of the circle is with center O is 12.56 \n"
     ]
    }
   ],
   "source": [
    "Cl.Circumference()"
   ]
  },
  {
   "cell_type": "code",
   "execution_count": null,
   "id": "5e3a0b30",
   "metadata": {},
   "outputs": [],
   "source": []
  }
 ],
 "metadata": {
  "kernelspec": {
   "display_name": "Python 3 (ipykernel)",
   "language": "python",
   "name": "python3"
  },
  "language_info": {
   "codemirror_mode": {
    "name": "ipython",
    "version": 3
   },
   "file_extension": ".py",
   "mimetype": "text/x-python",
   "name": "python",
   "nbconvert_exporter": "python",
   "pygments_lexer": "ipython3",
   "version": "3.11.2"
  }
 },
 "nbformat": 4,
 "nbformat_minor": 5
}
