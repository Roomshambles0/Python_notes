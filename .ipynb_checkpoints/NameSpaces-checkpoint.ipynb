{
 "cells": [
  {
   "cell_type": "code",
   "execution_count": 1,
   "id": "983683db",
   "metadata": {},
   "outputs": [],
   "source": [
    "# NameSpaces in Python means Scoping\n",
    "# It decides which variable is accessible where in code \n"
   ]
  },
  {
   "cell_type": "code",
   "execution_count": 2,
   "id": "b2586f33",
   "metadata": {},
   "outputs": [],
   "source": [
    "## there are thre namespaces in Python\n",
    "\n",
    "# built-in namespaces \n",
    "# global namespaces\n",
    "# local namespaces"
   ]
  },
  {
   "cell_type": "code",
   "execution_count": 3,
   "id": "289b7fba",
   "metadata": {},
   "outputs": [],
   "source": [
    "# Built-in namespaces: \n",
    "# there are some built in methods that are available \n",
    "# without userdefined module, method and classes some methods are always \n",
    "# present like print(), input() etc these are within built-in namespaces"
   ]
  },
  {
   "cell_type": "code",
   "execution_count": 4,
   "id": "ad6ba7a6",
   "metadata": {},
   "outputs": [],
   "source": [
    "# Global namespaces:\n",
    "# Variables and methods defined outside methods are in the global namespaces\n",
    "# these are called global namespaces"
   ]
  },
  {
   "cell_type": "code",
   "execution_count": 5,
   "id": "6eaf5579",
   "metadata": {},
   "outputs": [],
   "source": [
    "# Local namespaces:\n",
    "# Variables and methods that are defined inside function are in local \n",
    "# namespaces \n",
    "# if you have to define a global variable inside function then you have to \n",
    "# use global key word before identifier"
   ]
  },
  {
   "cell_type": "code",
   "execution_count": null,
   "id": "9d685915",
   "metadata": {},
   "outputs": [],
   "source": [
    "# whenever any global variable and local variable have same name or identifier\n",
    "# local variable shadow out global variable"
   ]
  }
 ],
 "metadata": {
  "kernelspec": {
   "display_name": "Python 3 (ipykernel)",
   "language": "python",
   "name": "python3"
  },
  "language_info": {
   "codemirror_mode": {
    "name": "ipython",
    "version": 3
   },
   "file_extension": ".py",
   "mimetype": "text/x-python",
   "name": "python",
   "nbconvert_exporter": "python",
   "pygments_lexer": "ipython3",
   "version": "3.11.2"
  }
 },
 "nbformat": 4,
 "nbformat_minor": 5
}
