{
 "cells": [
  {
   "cell_type": "code",
   "execution_count": 1,
   "id": "97d4df35",
   "metadata": {},
   "outputs": [],
   "source": [
    "##Decorators in python allows you to add extra functionality to already existing function\n",
    "## @ operator is used in on the top of the function"
   ]
  },
  {
   "cell_type": "code",
   "execution_count": null,
   "id": "ee8f6baa",
   "metadata": {},
   "outputs": [],
   "source": []
  },
  {
   "cell_type": "code",
   "execution_count": 3,
   "id": "569970b4",
   "metadata": {},
   "outputs": [],
   "source": [
    "def cool():\n",
    "    def super_cool():\n",
    "        return \"I am very cool\"\n",
    "    return super_cool"
   ]
  },
  {
   "cell_type": "code",
   "execution_count": 4,
   "id": "6d32cc19",
   "metadata": {},
   "outputs": [],
   "source": [
    "Cool = cool()"
   ]
  },
  {
   "cell_type": "code",
   "execution_count": 6,
   "id": "82522a43",
   "metadata": {},
   "outputs": [
    {
     "data": {
      "text/plain": [
       "<function __main__.cool.<locals>.super_cool()>"
      ]
     },
     "execution_count": 6,
     "metadata": {},
     "output_type": "execute_result"
    }
   ],
   "source": [
    "Cool"
   ]
  },
  {
   "cell_type": "code",
   "execution_count": 7,
   "id": "344b7123",
   "metadata": {},
   "outputs": [
    {
     "data": {
      "text/plain": [
       "'I am very cool'"
      ]
     },
     "execution_count": 7,
     "metadata": {},
     "output_type": "execute_result"
    }
   ],
   "source": [
    "Cool()"
   ]
  },
  {
   "cell_type": "code",
   "execution_count": null,
   "id": "2f469cfd",
   "metadata": {},
   "outputs": [],
   "source": []
  },
  {
   "cell_type": "code",
   "execution_count": 10,
   "id": "e7a8cb46",
   "metadata": {},
   "outputs": [],
   "source": [
    " #function defining an function inside that function"
   ]
  },
  {
   "cell_type": "code",
   "execution_count": 11,
   "id": "33c6887f",
   "metadata": {},
   "outputs": [],
   "source": [
    "def hello():\n",
    "    return \"hi Piyush...!\"\n"
   ]
  },
  {
   "cell_type": "code",
   "execution_count": 13,
   "id": "b514e211",
   "metadata": {},
   "outputs": [],
   "source": [
    "def other(some_other_func):\n",
    "    print(\"some differnt code\")\n",
    "    print(some_other_func())"
   ]
  },
  {
   "cell_type": "code",
   "execution_count": 15,
   "id": "56f62078",
   "metadata": {},
   "outputs": [
    {
     "name": "stdout",
     "output_type": "stream",
     "text": [
      "some differnt code\n",
      "hi Piyush...!\n"
     ]
    }
   ],
   "source": [
    "other(hello)"
   ]
  },
  {
   "cell_type": "code",
   "execution_count": null,
   "id": "8802f7d0",
   "metadata": {},
   "outputs": [],
   "source": []
  },
  {
   "cell_type": "code",
   "execution_count": 16,
   "id": "6caf163d",
   "metadata": {},
   "outputs": [],
   "source": [
    "#For understanding the concept of the decorator\n",
    "\n",
    "## Very important note decorator function must return func and \n",
    "# take argument as functon "
   ]
  },
  {
   "cell_type": "code",
   "execution_count": 36,
   "id": "0ff10fe7",
   "metadata": {},
   "outputs": [],
   "source": [
    "def new_decorator(original):\n",
    "    def wrap_func():\n",
    "        print(\"some extra code before original function\")\n",
    "        original()\n",
    "        print(\"some extra code after original functioin\")\n",
    "    return wrap_func\n",
    "\n",
    "\n",
    "def original():\n",
    "    print(\"Hey I need to be decorated...!\")\n",
    "    \n",
    "decorator = new_decorator(original)\n",
    "\n",
    "decorator()"
   ]
  },
  {
   "cell_type": "code",
   "execution_count": 37,
   "id": "76d4bb00",
   "metadata": {},
   "outputs": [],
   "source": []
  },
  {
   "cell_type": "code",
   "execution_count": 8,
   "id": "07beb5d5",
   "metadata": {},
   "outputs": [
    {
     "name": "stdout",
     "output_type": "stream",
     "text": [
      "hello before func\n"
     ]
    }
   ],
   "source": [
    "def wrap(func):\n",
    "    print(\"hello before func\")\n",
    "    return func\n",
    "    \n",
    "@wrap\n",
    "def test():\n",
    "    print(\"hello world from test\")\n",
    "    \n",
    "\n",
    "\n",
    "wrap(test)"
   ]
  },
  {
   "cell_type": "code",
   "execution_count": 11,
   "id": "4a6fb749",
   "metadata": {},
   "outputs": [
    {
     "name": "stdout",
     "output_type": "stream",
     "text": [
      "25\n"
     ]
    }
   ],
   "source": [
    "\n",
    "\n",
    "# Python program to illustrate functions \n",
    "# Functions can return another function \n",
    " \n",
    "def create_adder(x): \n",
    "    def adder(y): \n",
    "        return x+y \n",
    " \n",
    "    return adder \n",
    " \n",
    "add_15 = create_adder(15) \n",
    " \n",
    "print(add_15(10)) "
   ]
  },
  {
   "cell_type": "code",
   "execution_count": 16,
   "id": "fd440512",
   "metadata": {},
   "outputs": [
    {
     "name": "stdout",
     "output_type": "stream",
     "text": [
      "hello my name is  Piyush\n"
     ]
    },
    {
     "ename": "TypeError",
     "evalue": "'NoneType' object is not callable",
     "output_type": "error",
     "traceback": [
      "\u001b[1;31m---------------------------------------------------------------------------\u001b[0m",
      "\u001b[1;31mTypeError\u001b[0m                                 Traceback (most recent call last)",
      "Cell \u001b[1;32mIn[16], line 15\u001b[0m\n\u001b[0;32m     11\u001b[0m     \u001b[38;5;28mprint\u001b[39m(data)\n\u001b[0;32m     13\u001b[0m Speak \u001b[38;5;241m=\u001b[39m a\u001b[38;5;241m.\u001b[39mSpeak(\u001b[38;5;124m\"\u001b[39m\u001b[38;5;124mPiyush\u001b[39m\u001b[38;5;124m\"\u001b[39m)\n\u001b[1;32m---> 15\u001b[0m Speak()\n",
      "\u001b[1;31mTypeError\u001b[0m: 'NoneType' object is not callable"
     ]
    }
   ],
   "source": [
    "class Piyush():\n",
    "    def __init__(self):\n",
    "        self.name = \"Piyush\"\n",
    "        \n",
    "    def Speak(self,data):\n",
    "        print(\"hello my name is \",data)\n",
    "        \n",
    "a = Piyush()\n",
    "\n",
    "def Speak(data):\n",
    "    print(data)\n",
    "    \n",
    "Speak = a.Speak(\"Piyush\")\n",
    "\n",
    "Speak()"
   ]
  },
  {
   "cell_type": "code",
   "execution_count": null,
   "id": "6f019578",
   "metadata": {},
   "outputs": [],
   "source": []
  }
 ],
 "metadata": {
  "kernelspec": {
   "display_name": "Python 3 (ipykernel)",
   "language": "python",
   "name": "python3"
  },
  "language_info": {
   "codemirror_mode": {
    "name": "ipython",
    "version": 3
   },
   "file_extension": ".py",
   "mimetype": "text/x-python",
   "name": "python",
   "nbconvert_exporter": "python",
   "pygments_lexer": "ipython3",
   "version": "3.11.2"
  }
 },
 "nbformat": 4,
 "nbformat_minor": 5
}
