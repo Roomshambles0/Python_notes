{
 "cells": [
  {
   "cell_type": "code",
   "execution_count": null,
   "id": "8ae78539",
   "metadata": {},
   "outputs": [],
   "source": [
    "# Python uses pass by object reference\n",
    "\n",
    "\n",
    "# Pythons argument passing module uses pass by object reference\n",
    "# where as depending on object type python can decide to either to pass\n",
    "# by value or pass by reference\n",
    "\n",
    "# Python uses pass by reference to \"Immutable\" object type where as\n",
    "# it uses pass by value to \"Mutable\" object types\n",
    "\n",
    "\n"
   ]
  }
 ],
 "metadata": {
  "kernelspec": {
   "display_name": "Python 3 (ipykernel)",
   "language": "python",
   "name": "python3"
  },
  "language_info": {
   "codemirror_mode": {
    "name": "ipython",
    "version": 3
   },
   "file_extension": ".py",
   "mimetype": "text/x-python",
   "name": "python",
   "nbconvert_exporter": "python",
   "pygments_lexer": "ipython3",
   "version": "3.11.2"
  }
 },
 "nbformat": 4,
 "nbformat_minor": 5
}
