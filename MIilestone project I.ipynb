{
 "cells": [
  {
   "cell_type": "code",
   "execution_count": null,
   "id": "203d6931",
   "metadata": {},
   "outputs": [],
   "source": [
    "def display(row1,row2,row3):\n",
    "    print(row1)\n",
    "    print(row2)\n",
    "    print(row3)"
   ]
  },
  {
   "cell_type": "code",
   "execution_count": null,
   "id": "78e5da97",
   "metadata": {},
   "outputs": [],
   "source": [
    "row1 = [' ',' ',' ']\n",
    "row2 = [' ',' ',' ']\n",
    "row3 = [' ',' ',' ']"
   ]
  },
  {
   "cell_type": "code",
   "execution_count": null,
   "id": "691a2c5d",
   "metadata": {},
   "outputs": [],
   "source": [
    "display(row1,row2,row3)"
   ]
  },
  {
   "cell_type": "code",
   "execution_count": null,
   "id": "9ab82241",
   "metadata": {},
   "outputs": [],
   "source": [
    "row2[1] = 'x'"
   ]
  },
  {
   "cell_type": "code",
   "execution_count": null,
   "id": "df16d9b1",
   "metadata": {},
   "outputs": [],
   "source": [
    "display(row1,row2,row3)"
   ]
  },
  {
   "cell_type": "code",
   "execution_count": null,
   "id": "df36dbf8",
   "metadata": {},
   "outputs": [],
   "source": [
    "row1[1] = ' '"
   ]
  },
  {
   "cell_type": "code",
   "execution_count": null,
   "id": "e2f54f29",
   "metadata": {},
   "outputs": [],
   "source": [
    "display(row1,row2,row3)"
   ]
  },
  {
   "cell_type": "code",
   "execution_count": null,
   "id": "4ca6a399",
   "metadata": {},
   "outputs": [],
   "source": [
    "  def userchoice():\n",
    "        choice = 'shfhehk'\n",
    "        \n",
    "        acceptable_values = range(0,2)\n",
    "        \n",
    "        within_range = False\n",
    "        \n",
    "        while choice.isdigit() == False or within_range == False:\n",
    "            \n",
    "            choice =input(\"enter a number between 0-10: \")\n",
    "            \n",
    "            if choice.isdigit() == False :\n",
    "            \n",
    "                print(\"Sorry..! invalid input \\n only numbers are allowed\")\n",
    "                \n",
    "            if choice.isdigit()==True:\n",
    "                  \n",
    "                    if int(choice) in acceptable_values:\n",
    "                        whithin_range = True\n",
    "                        \n",
    "                    else :\n",
    "                        print(\"digit is not in accaptable range\")\n",
    "                        whithin_range = False\n",
    "     \n",
    "        return int(choice)\n",
    "    "
   ]
  },
  {
   "cell_type": "code",
   "execution_count": null,
   "id": "f17f550e",
   "metadata": {},
   "outputs": [],
   "source": [
    "userchoice()"
   ]
  },
  {
   "cell_type": "code",
   "execution_count": 3,
   "id": "1d4bf07e",
   "metadata": {},
   "outputs": [],
   "source": [
    "game = [1,2,3]\n",
    "\n",
    "def display(game_list):\n",
    "    print(\"here is your starting  list\")\n",
    "    print(game_list)"
   ]
  },
  {
   "cell_type": "code",
   "execution_count": 4,
   "id": "1286330a",
   "metadata": {},
   "outputs": [
    {
     "name": "stdout",
     "output_type": "stream",
     "text": [
      "here is your starting  list\n",
      "[1, 2, 3]\n"
     ]
    }
   ],
   "source": [
    "display(game)"
   ]
  },
  {
   "cell_type": "code",
   "execution_count": 5,
   "id": "6c31b3e7",
   "metadata": {},
   "outputs": [],
   "source": [
    "def position_choice():\n",
    "    choice = \"wrong\"\n",
    "    while choice not in ['0','1','2']:\n",
    "            choice  = input(\"enter the position:\")\n",
    "            if choice not in ['0','1','2']:\n",
    "                print(\"Sorry you have not entered the correct value\")\n",
    "   \n",
    "    return int(choice)"
   ]
  },
  {
   "cell_type": "code",
   "execution_count": 6,
   "id": "598788ae",
   "metadata": {},
   "outputs": [
    {
     "name": "stdout",
     "output_type": "stream",
     "text": [
      "enter the position:1\n"
     ]
    }
   ],
   "source": [
    "p = position_choice()"
   ]
  },
  {
   "cell_type": "code",
   "execution_count": 7,
   "id": "2994c6dd",
   "metadata": {},
   "outputs": [],
   "source": [
    "def replacement_value(game_list,position):\n",
    "    game_list[position] = input(\"enter the value: \")\n",
    "    "
   ]
  },
  {
   "cell_type": "code",
   "execution_count": 8,
   "id": "539fcff9",
   "metadata": {},
   "outputs": [
    {
     "name": "stdout",
     "output_type": "stream",
     "text": [
      "enter the value: 2\n"
     ]
    }
   ],
   "source": [
    "replacement_value(game,p)"
   ]
  },
  {
   "cell_type": "code",
   "execution_count": 12,
   "id": "ff197767",
   "metadata": {},
   "outputs": [],
   "source": [
    "def game_on_off():\n",
    "    choice = \"ejdf\"\n",
    "    while choice not in ['Y','N']:\n",
    "        \n",
    "        choice = input(\"Keep playing: \")\n",
    "        \n",
    "        if choice not in ['Y','N']:\n",
    "            \n",
    "            print(\"invalid choice\")\n",
    "            \n",
    "    if choice == \"N\":\n",
    "        return False\n",
    "    else :\n",
    "        return True"
   ]
  },
  {
   "cell_type": "code",
   "execution_count": 13,
   "id": "792560cb",
   "metadata": {},
   "outputs": [
    {
     "name": "stdout",
     "output_type": "stream",
     "text": [
      "here is your starting  list\n",
      "['0', '1', '2']\n",
      "enter the position:1\n",
      "enter the value: 222\n",
      "here is your starting  list\n",
      "['0', '222', '2']\n",
      "Keep playing: N\n"
     ]
    }
   ],
   "source": [
    "game = ['0','1','2']\n",
    "\n",
    "game_on = True\n",
    "\n",
    "while game_on:\n",
    "    display(game)\n",
    "    \n",
    "    p = position_choice()\n",
    "    \n",
    "    \n",
    "    replacement_value(game,p)\n",
    "    \n",
    "    display(game)\n",
    "    \n",
    "    game_on = game_on_off()\n",
    "    \n",
    "    \n",
    "    "
   ]
  },
  {
   "cell_type": "code",
   "execution_count": null,
   "id": "6637b430",
   "metadata": {},
   "outputs": [],
   "source": [
    "game_on_off()"
   ]
  },
  {
   "cell_type": "code",
   "execution_count": null,
   "id": "f929097b",
   "metadata": {},
   "outputs": [],
   "source": []
  }
 ],
 "metadata": {
  "kernelspec": {
   "display_name": "Python 3 (ipykernel)",
   "language": "python",
   "name": "python3"
  },
  "language_info": {
   "codemirror_mode": {
    "name": "ipython",
    "version": 3
   },
   "file_extension": ".py",
   "mimetype": "text/x-python",
   "name": "python",
   "nbconvert_exporter": "python",
   "pygments_lexer": "ipython3",
   "version": "3.9.12"
  }
 },
 "nbformat": 4,
 "nbformat_minor": 5
}
