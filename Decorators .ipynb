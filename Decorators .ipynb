{
 "cells": [
  {
   "cell_type": "code",
   "execution_count": 1,
   "id": "97d4df35",
   "metadata": {},
   "outputs": [],
   "source": [
    "##Decorators in python allows you to add extra functionality to already existing function\n",
    "## @ operator is used in on the top of the function"
   ]
  },
  {
   "cell_type": "code",
   "execution_count": null,
   "id": "ee8f6baa",
   "metadata": {},
   "outputs": [],
   "source": []
  },
  {
   "cell_type": "code",
   "execution_count": null,
   "id": "5230ab9a",
   "metadata": {},
   "outputs": [],
   "source": []
  },
  {
   "cell_type": "code",
   "execution_count": null,
   "id": "56669120",
   "metadata": {},
   "outputs": [],
   "source": []
  },
  {
   "cell_type": "code",
   "execution_count": 2,
   "id": "6e72cafe",
   "metadata": {},
   "outputs": [],
   "source": []
  },
  {
   "cell_type": "code",
   "execution_count": 3,
   "id": "569970b4",
   "metadata": {},
   "outputs": [],
   "source": [
    "def cool():\n",
    "    def super_cool():\n",
    "        return \"I am very cool\"\n",
    "    return super_cool"
   ]
  },
  {
   "cell_type": "code",
   "execution_count": 4,
   "id": "6d32cc19",
   "metadata": {},
   "outputs": [],
   "source": [
    "Cool = cool()"
   ]
  },
  {
   "cell_type": "code",
   "execution_count": 6,
   "id": "82522a43",
   "metadata": {},
   "outputs": [
    {
     "data": {
      "text/plain": [
       "<function __main__.cool.<locals>.super_cool()>"
      ]
     },
     "execution_count": 6,
     "metadata": {},
     "output_type": "execute_result"
    }
   ],
   "source": [
    "Cool"
   ]
  },
  {
   "cell_type": "code",
   "execution_count": 7,
   "id": "344b7123",
   "metadata": {},
   "outputs": [
    {
     "data": {
      "text/plain": [
       "'I am very cool'"
      ]
     },
     "execution_count": 7,
     "metadata": {},
     "output_type": "execute_result"
    }
   ],
   "source": [
    "Cool()"
   ]
  },
  {
   "cell_type": "code",
   "execution_count": null,
   "id": "5de5ed6d",
   "metadata": {},
   "outputs": [],
   "source": []
  },
  {
   "cell_type": "code",
   "execution_count": null,
   "id": "2f469cfd",
   "metadata": {},
   "outputs": [],
   "source": []
  },
  {
   "cell_type": "code",
   "execution_count": 10,
   "id": "e7a8cb46",
   "metadata": {},
   "outputs": [],
   "source": [
    " #function defining an function inside that function"
   ]
  },
  {
   "cell_type": "code",
   "execution_count": 11,
   "id": "33c6887f",
   "metadata": {},
   "outputs": [],
   "source": [
    "def hello():\n",
    "    return \"hi Piyush...!\"\n"
   ]
  },
  {
   "cell_type": "code",
   "execution_count": 13,
   "id": "b514e211",
   "metadata": {},
   "outputs": [],
   "source": [
    "def other(some_other_func):\n",
    "    print(\"some differnt code\")\n",
    "    print(some_other_func())"
   ]
  },
  {
   "cell_type": "code",
   "execution_count": 15,
   "id": "56f62078",
   "metadata": {},
   "outputs": [
    {
     "name": "stdout",
     "output_type": "stream",
     "text": [
      "some differnt code\n",
      "hi Piyush...!\n"
     ]
    }
   ],
   "source": [
    "other(hello)"
   ]
  },
  {
   "cell_type": "code",
   "execution_count": null,
   "id": "8802f7d0",
   "metadata": {},
   "outputs": [],
   "source": []
  },
  {
   "cell_type": "code",
   "execution_count": null,
   "id": "dcef182c",
   "metadata": {},
   "outputs": [],
   "source": []
  },
  {
   "cell_type": "code",
   "execution_count": null,
   "id": "420c2117",
   "metadata": {},
   "outputs": [],
   "source": []
  },
  {
   "cell_type": "code",
   "execution_count": 16,
   "id": "6caf163d",
   "metadata": {},
   "outputs": [],
   "source": [
    "#For understanding the concept of the decorator"
   ]
  },
  {
   "cell_type": "code",
   "execution_count": 36,
   "id": "0ff10fe7",
   "metadata": {},
   "outputs": [],
   "source": [
    "def new_decorator(original):\n",
    "    def wrap_func():\n",
    "        print(\"some extra code before original function\")\n",
    "        original()\n",
    "        print(\"some extra code after original functioin\")\n",
    "    return wrap_func"
   ]
  },
  {
   "cell_type": "code",
   "execution_count": 37,
   "id": "76d4bb00",
   "metadata": {},
   "outputs": [],
   "source": [
    "def original():\n",
    "    print(\"Hey I need to be decorated...!\")"
   ]
  },
  {
   "cell_type": "code",
   "execution_count": 38,
   "id": "a45e22e0",
   "metadata": {},
   "outputs": [],
   "source": [
    "decorator = new_decorator(original)"
   ]
  },
  {
   "cell_type": "code",
   "execution_count": 39,
   "id": "bc2a47f9",
   "metadata": {},
   "outputs": [
    {
     "name": "stdout",
     "output_type": "stream",
     "text": [
      "some extra code before original function\n",
      "Hey I need to be decorated...!\n",
      "some extra code after original functioin\n"
     ]
    }
   ],
   "source": [
    "decorator()"
   ]
  },
  {
   "cell_type": "code",
   "execution_count": 42,
   "id": "44d181e3",
   "metadata": {},
   "outputs": [
    {
     "ename": "TypeError",
     "evalue": "hello() takes 0 positional arguments but 1 was given",
     "output_type": "error",
     "traceback": [
      "\u001b[1;31m---------------------------------------------------------------------------\u001b[0m",
      "\u001b[1;31mTypeError\u001b[0m                                 Traceback (most recent call last)",
      "Input \u001b[1;32mIn [42]\u001b[0m, in \u001b[0;36m<cell line: 1>\u001b[1;34m()\u001b[0m\n\u001b[0;32m      1\u001b[0m \u001b[38;5;129;43m@hello\u001b[39;49m\n\u001b[1;32m----> 2\u001b[0m \u001b[38;5;28;43;01mdef\u001b[39;49;00m\u001b[43m \u001b[49m\u001b[38;5;21;43moriginal\u001b[39;49m\u001b[43m(\u001b[49m\u001b[43m)\u001b[49m\u001b[43m:\u001b[49m\n\u001b[0;32m      3\u001b[0m \u001b[43m    \u001b[49m\u001b[38;5;28;43mprint\u001b[39;49m\u001b[43m(\u001b[49m\u001b[38;5;124;43m\"\u001b[39;49m\u001b[38;5;124;43mHey I need to be decorated...!\u001b[39;49m\u001b[38;5;124;43m\"\u001b[39;49m\u001b[43m)\u001b[49m\n",
      "\u001b[1;31mTypeError\u001b[0m: hello() takes 0 positional arguments but 1 was given"
     ]
    }
   ],
   "source": [
    "@hello\n",
    "def original():\n",
    "    print(\"Hey I need to be decorated...!\")"
   ]
  },
  {
   "cell_type": "code",
   "execution_count": 41,
   "id": "10bfd88c",
   "metadata": {},
   "outputs": [
    {
     "name": "stdout",
     "output_type": "stream",
     "text": [
      "some extra code before original function\n",
      "Hey I need to be decorated...!\n",
      "some extra code after original functioin\n"
     ]
    }
   ],
   "source": [
    "original()"
   ]
  },
  {
   "cell_type": "code",
   "execution_count": null,
   "id": "07beb5d5",
   "metadata": {},
   "outputs": [],
   "source": []
  }
 ],
 "metadata": {
  "kernelspec": {
   "display_name": "Python 3 (ipykernel)",
   "language": "python",
   "name": "python3"
  },
  "language_info": {
   "codemirror_mode": {
    "name": "ipython",
    "version": 3
   },
   "file_extension": ".py",
   "mimetype": "text/x-python",
   "name": "python",
   "nbconvert_exporter": "python",
   "pygments_lexer": "ipython3",
   "version": "3.11.2"
  }
 },
 "nbformat": 4,
 "nbformat_minor": 5
}
