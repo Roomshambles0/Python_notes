{
 "cells": [
  {
   "cell_type": "code",
   "execution_count": 1,
   "id": "b3a250b3",
   "metadata": {},
   "outputs": [
    {
     "name": "stdout",
     "output_type": "stream",
     "text": [
      "apple\n",
      "banana\n",
      "cherry\n"
     ]
    }
   ],
   "source": [
    "## in iterator method you can traverse on values such as list,tuples,dicts,sets\n",
    "\n",
    "\n",
    "mytuple = (\"apple\", \"banana\", \"cherry\")\n",
    "myit = iter(mytuple)\n",
    "\n",
    "print(next(myit))\n",
    "print(next(myit))\n",
    "print(next(myit))"
   ]
  },
  {
   "cell_type": "code",
   "execution_count": 13,
   "id": "0776294a",
   "metadata": {},
   "outputs": [
    {
     "name": "stdout",
     "output_type": "stream",
     "text": [
      "0\n",
      "1\n"
     ]
    }
   ],
   "source": [
    "## generator function \n",
    "# whenever python wants to return iterator it returns with yield statement rather that return\n",
    "\n",
    "\n",
    "def fibonacci(Limit):\n",
    "    \n",
    "    \n",
    "    a = 0\n",
    "    b = 1\n",
    "    while a < Limit:\n",
    "        yield a\n",
    "        a,b = b , a + b\n",
    "\n",
    "    \n",
    "    \n",
    "res = fibonacci(5)\n",
    "    \n",
    "print(next(res))\n",
    "print(next(res))  \n",
    "\n"
   ]
  },
  {
   "cell_type": "code",
   "execution_count": 6,
   "id": "284f63c6",
   "metadata": {},
   "outputs": [
    {
     "name": "stdout",
     "output_type": "stream",
     "text": [
      "0\n",
      "1\n",
      "1\n"
     ]
    }
   ],
   "source": [
    "def fib(limit): \n",
    "      \n",
    "    # Initialize first two Fibonacci Numbers  \n",
    "    a, b = 0, 1\n",
    "  \n",
    "    # One by one yield next Fibonacci Number \n",
    "    while a < limit: \n",
    "        yield a \n",
    "        a, b = b, a + b \n",
    "  \n",
    "# Create a generator object \n",
    "x = fib(5) \n",
    "  \n",
    "# Iterating over the generator object using next \n",
    "# In Python 3, __next__() \n"
   ]
  },
  {
   "cell_type": "code",
   "execution_count": null,
   "id": "1a9b72fc",
   "metadata": {},
   "outputs": [],
   "source": []
  }
 ],
 "metadata": {
  "kernelspec": {
   "display_name": "Python 3 (ipykernel)",
   "language": "python",
   "name": "python3"
  },
  "language_info": {
   "codemirror_mode": {
    "name": "ipython",
    "version": 3
   },
   "file_extension": ".py",
   "mimetype": "text/x-python",
   "name": "python",
   "nbconvert_exporter": "python",
   "pygments_lexer": "ipython3",
   "version": "3.11.2"
  }
 },
 "nbformat": 4,
 "nbformat_minor": 5
}
