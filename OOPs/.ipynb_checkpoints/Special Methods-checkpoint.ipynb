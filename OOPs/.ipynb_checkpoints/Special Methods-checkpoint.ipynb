{
 "cells": [
  {
   "cell_type": "code",
   "execution_count": null,
   "id": "b3a6f3d1",
   "metadata": {},
   "outputs": [],
   "source": [
    "my_list = [1,2,3]"
   ]
  },
  {
   "cell_type": "code",
   "execution_count": null,
   "id": "f80fcfb8",
   "metadata": {},
   "outputs": [],
   "source": [
    "len(my_list)"
   ]
  },
  {
   "cell_type": "code",
   "execution_count": null,
   "id": "960a960a",
   "metadata": {},
   "outputs": [],
   "source": [
    "class Sample():\n",
    "    pass"
   ]
  },
  {
   "cell_type": "code",
   "execution_count": null,
   "id": "be605ecc",
   "metadata": {},
   "outputs": [],
   "source": [
    "sample = Sample()"
   ]
  },
  {
   "cell_type": "code",
   "execution_count": null,
   "id": "afe07c47",
   "metadata": {},
   "outputs": [],
   "source": [
    "print(sample)"
   ]
  },
  {
   "cell_type": "code",
   "execution_count": null,
   "id": "44721df5",
   "metadata": {},
   "outputs": [],
   "source": []
  },
  {
   "cell_type": "code",
   "execution_count": null,
   "id": "f3829cd4",
   "metadata": {},
   "outputs": [],
   "source": [
    "##special methods are the methods that are used in user-defined objects "
   ]
  },
  {
   "cell_type": "code",
   "execution_count": null,
   "id": "b41df1d4",
   "metadata": {},
   "outputs": [],
   "source": [
    "##this method enables the use of buit-in methods also "
   ]
  },
  {
   "cell_type": "code",
   "execution_count": 23,
   "id": "775f4e07",
   "metadata": {},
   "outputs": [],
   "source": [
    " class Book():\n",
    "        def __init__(self,title,auther,pages):\n",
    "            self.title = title\n",
    "            self.auther = auther\n",
    "            self.pages = pages\n",
    "        def __str__(self):\n",
    "                return f\"{self.title} by {self.auther}\"\n",
    "        def __len__(self):\n",
    "            return self.pages\n",
    "        def __del__(self):\n",
    "            print(\"a book object has been deleted\")\n",
    "            "
   ]
  },
  {
   "cell_type": "code",
   "execution_count": 24,
   "id": "065be87d",
   "metadata": {},
   "outputs": [],
   "source": [
    "book = Book(\"python hero\",\"piyush\",100)"
   ]
  },
  {
   "cell_type": "code",
   "execution_count": 25,
   "id": "4013280a",
   "metadata": {},
   "outputs": [
    {
     "name": "stdout",
     "output_type": "stream",
     "text": [
      "python hero by piyush\n"
     ]
    }
   ],
   "source": [
    "print(book)"
   ]
  },
  {
   "cell_type": "code",
   "execution_count": 26,
   "id": "0d7404ec",
   "metadata": {},
   "outputs": [
    {
     "data": {
      "text/plain": [
       "'python hero by piyush'"
      ]
     },
     "execution_count": 26,
     "metadata": {},
     "output_type": "execute_result"
    }
   ],
   "source": [
    "str(book)"
   ]
  },
  {
   "cell_type": "code",
   "execution_count": 27,
   "id": "24091f6a",
   "metadata": {},
   "outputs": [
    {
     "data": {
      "text/plain": [
       "100"
      ]
     },
     "execution_count": 27,
     "metadata": {},
     "output_type": "execute_result"
    }
   ],
   "source": [
    "len(book)"
   ]
  },
  {
   "cell_type": "code",
   "execution_count": 28,
   "id": "c04d2ac4",
   "metadata": {},
   "outputs": [
    {
     "name": "stdout",
     "output_type": "stream",
     "text": [
      "a book object has been deleted\n"
     ]
    }
   ],
   "source": [
    "del book"
   ]
  },
  {
   "cell_type": "code",
   "execution_count": 22,
   "id": "1a9d4391",
   "metadata": {},
   "outputs": [
    {
     "ename": "NameError",
     "evalue": "name 'book' is not defined",
     "output_type": "error",
     "traceback": [
      "\u001b[1;31m---------------------------------------------------------------------------\u001b[0m",
      "\u001b[1;31mNameError\u001b[0m                                 Traceback (most recent call last)",
      "Input \u001b[1;32mIn [22]\u001b[0m, in \u001b[0;36m<cell line: 1>\u001b[1;34m()\u001b[0m\n\u001b[1;32m----> 1\u001b[0m \u001b[43mbook\u001b[49m\n",
      "\u001b[1;31mNameError\u001b[0m: name 'book' is not defined"
     ]
    }
   ],
   "source": [
    "book"
   ]
  },
  {
   "cell_type": "code",
   "execution_count": null,
   "id": "3e517196",
   "metadata": {},
   "outputs": [],
   "source": []
  },
  {
   "cell_type": "code",
   "execution_count": null,
   "id": "0160de3c",
   "metadata": {},
   "outputs": [],
   "source": []
  },
  {
   "cell_type": "code",
   "execution_count": null,
   "id": "3094cc7f",
   "metadata": {},
   "outputs": [],
   "source": []
  },
  {
   "cell_type": "code",
   "execution_count": null,
   "id": "29d24008",
   "metadata": {},
   "outputs": [],
   "source": []
  },
  {
   "cell_type": "code",
   "execution_count": 29,
   "id": "35cc5f0f",
   "metadata": {},
   "outputs": [],
   "source": [
    "##Homework"
   ]
  },
  {
   "cell_type": "code",
   "execution_count": 48,
   "id": "8d6a4100",
   "metadata": {},
   "outputs": [],
   "source": [
    "class Line():\n",
    "    def __init__(self,coor1,coor2):\n",
    "     self.coor1 = coor1\n",
    "     self.coor2 = coor2\n",
    "    \n",
    "    def distance(self):\n",
    "        d1 = (self.coor2[0] - self.coor1[0])**2 + (self.coor2[1] - self.coor1[1])**2\n",
    "        d1 = d1**0.5\n",
    "        return d1\n",
    "\n",
    "    def slope(self):\n",
    "        pass\n",
    "        \n",
    "        "
   ]
  },
  {
   "cell_type": "code",
   "execution_count": 49,
   "id": "2b40ccf9",
   "metadata": {},
   "outputs": [],
   "source": [
    "#Example output\n",
    "\n",
    "coordinates1 = (3,2)\n",
    "coordinates2 = (8,10)"
   ]
  },
  {
   "cell_type": "code",
   "execution_count": 50,
   "id": "f74f392f",
   "metadata": {},
   "outputs": [],
   "source": [
    "l1 = Line(coordinates1,coordinates2)"
   ]
  },
  {
   "cell_type": "code",
   "execution_count": 51,
   "id": "af5e3aa8",
   "metadata": {},
   "outputs": [
    {
     "data": {
      "text/plain": [
       "(3, 2)"
      ]
     },
     "execution_count": 51,
     "metadata": {},
     "output_type": "execute_result"
    }
   ],
   "source": [
    "l1.coor1"
   ]
  },
  {
   "cell_type": "code",
   "execution_count": 52,
   "id": "d7e02c97",
   "metadata": {},
   "outputs": [
    {
     "data": {
      "text/plain": [
       "9.433981132056603"
      ]
     },
     "execution_count": 52,
     "metadata": {},
     "output_type": "execute_result"
    }
   ],
   "source": [
    "l1.distance()"
   ]
  },
  {
   "cell_type": "code",
   "execution_count": null,
   "id": "340a6dd0",
   "metadata": {},
   "outputs": [],
   "source": []
  }
 ],
 "metadata": {
  "kernelspec": {
   "display_name": "Python 3 (ipykernel)",
   "language": "python",
   "name": "python3"
  },
  "language_info": {
   "codemirror_mode": {
    "name": "ipython",
    "version": 3
   },
   "file_extension": ".py",
   "mimetype": "text/x-python",
   "name": "python",
   "nbconvert_exporter": "python",
   "pygments_lexer": "ipython3",
   "version": "3.11.2"
  }
 },
 "nbformat": 4,
 "nbformat_minor": 5
}
