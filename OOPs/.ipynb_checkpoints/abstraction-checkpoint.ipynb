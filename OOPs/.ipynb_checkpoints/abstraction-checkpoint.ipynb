{
 "cells": [
  {
   "cell_type": "code",
   "execution_count": 1,
   "id": "f41d6219",
   "metadata": {},
   "outputs": [],
   "source": [
    "## Abstraction means hiding complex implementation details and showing only \n",
    "#  essential data to the user\n",
    "#  used to design modular and organised code \"\""
   ]
  },
  {
   "cell_type": "code",
   "execution_count": 2,
   "id": "9d6f3756",
   "metadata": {},
   "outputs": [],
   "source": [
    "# In python data-abstraction is implement with the help of abstract class\n",
    "# abstract class is the class that has one or more than one abstract method\n",
    "\n",
    "\n",
    "##Abstract Method\n",
    "# when method is defined inside class without its implementation \n",
    "# is called abstract method\n"
   ]
  },
  {
   "cell_type": "code",
   "execution_count": 5,
   "id": "0bdc8ee9",
   "metadata": {},
   "outputs": [],
   "source": [
    "## Python doesn't provide abstract method as default feature \n",
    "# we have to implement abstract base classs through ABC module\n",
    "# this ABC  module forces its derived class to write implementations for\n",
    "# abstract methods that defined by them \n",
    "# if they does not define method then it will not give error "
   ]
  },
  {
   "cell_type": "code",
   "execution_count": 19,
   "id": "150926fe",
   "metadata": {},
   "outputs": [],
   "source": [
    "## Concrete methods\n",
    "# Concrete methods are the methods that are defined and implemented in abstract\n",
    "# implementation for this method is generally same for derived classes"
   ]
  },
  {
   "cell_type": "code",
   "execution_count": 6,
   "id": "65178efd",
   "metadata": {},
   "outputs": [],
   "source": [
    "from abc import ABC, abstractmethod\n",
    "\n",
    "class BaseClass(ABC):\n",
    "    @abstractmethod\n",
    "    def method_1(self):\n",
    "        #empty body\n",
    "        pass\n",
    "    \n"
   ]
  },
  {
   "cell_type": "code",
   "execution_count": 15,
   "id": "a24de032",
   "metadata": {},
   "outputs": [],
   "source": [
    "class Car(ABC):\n",
    "    def __init__(self, brand, model, year):\n",
    "        self.brand = brand\n",
    "        self.model = model\n",
    "        self.year = year\n",
    "        \n",
    "    @abstractmethod\n",
    "    def printDetails(self):\n",
    "        pass\n",
    "    \n",
    "    def accelerate(self):\n",
    "        print(\"speed up....\")\n",
    "        \n",
    "    \n",
    "    \n",
    "    \n",
    "class Maruti(Car):\n",
    "    \n",
    "    def printDetails(self):\n",
    "        print(self.brand)\n",
    "        print(self.model)\n",
    "        print(self.year)\n",
    "        \n",
    "\n",
    "        \n",
    "        "
   ]
  },
  {
   "cell_type": "code",
   "execution_count": 16,
   "id": "93a63d07",
   "metadata": {},
   "outputs": [],
   "source": [
    " cars = Maruti(\"Suzuki\",\"800\", \"2000\")"
   ]
  },
  {
   "cell_type": "code",
   "execution_count": 17,
   "id": "1bf2644a",
   "metadata": {},
   "outputs": [
    {
     "name": "stdout",
     "output_type": "stream",
     "text": [
      "Suzuki\n",
      "800\n",
      "2000\n"
     ]
    }
   ],
   "source": [
    "cars.printDetails()"
   ]
  },
  {
   "cell_type": "code",
   "execution_count": 18,
   "id": "cd7b31c6",
   "metadata": {},
   "outputs": [
    {
     "name": "stdout",
     "output_type": "stream",
     "text": [
      "speed up....\n"
     ]
    }
   ],
   "source": [
    "cars.accelerate()"
   ]
  },
  {
   "cell_type": "code",
   "execution_count": null,
   "id": "54a53d9d",
   "metadata": {},
   "outputs": [],
   "source": []
  }
 ],
 "metadata": {
  "kernelspec": {
   "display_name": "Python 3 (ipykernel)",
   "language": "python",
   "name": "python3"
  },
  "language_info": {
   "codemirror_mode": {
    "name": "ipython",
    "version": 3
   },
   "file_extension": ".py",
   "mimetype": "text/x-python",
   "name": "python",
   "nbconvert_exporter": "python",
   "pygments_lexer": "ipython3",
   "version": "3.11.2"
  }
 },
 "nbformat": 4,
 "nbformat_minor": 5
}
