{
 "cells": [
  {
   "cell_type": "code",
   "execution_count": 26,
   "id": "b4e61852",
   "metadata": {},
   "outputs": [],
   "source": [
    "# Encapsulation means bundling data and methods that operate on the data \n",
    "# in one unit so that\n",
    "# they can operate as a single unit"
   ]
  },
  {
   "cell_type": "code",
   "execution_count": 27,
   "id": "4e7bea6e",
   "metadata": {},
   "outputs": [],
   "source": [
    "# This puts restriction on a accessing Variables and methods directly\n",
    "# also it can prevent accidental modification of data"
   ]
  },
  {
   "cell_type": "code",
   "execution_count": 28,
   "id": "60aa55a0",
   "metadata": {},
   "outputs": [],
   "source": [
    "# In Python we implement Encapsulation with Private variable \n",
    "# these private variables are accessed only accessed and changed by objects own methods\n",
    "\n",
    "# this private variables cannot be accessed by derived class "
   ]
  },
  {
   "cell_type": "code",
   "execution_count": 29,
   "id": "cd3297bd",
   "metadata": {},
   "outputs": [
    {
     "name": "stdout",
     "output_type": "stream",
     "text": [
      "Calling private members of base class: \n"
     ]
    },
    {
     "ename": "AttributeError",
     "evalue": "'Derived' object has no attribute '_Derived__b'",
     "output_type": "error",
     "traceback": [
      "\u001b[1;31m---------------------------------------------------------------------------\u001b[0m",
      "\u001b[1;31mAttributeError\u001b[0m                            Traceback (most recent call last)",
      "Cell \u001b[1;32mIn[29], line 18\u001b[0m\n\u001b[0;32m     12\u001b[0m         \u001b[38;5;28mprint\u001b[39m(\u001b[38;5;124m\"\u001b[39m\u001b[38;5;124mCalling private members of base class: \u001b[39m\u001b[38;5;124m\"\u001b[39m)\n\u001b[0;32m     13\u001b[0m         \u001b[38;5;28mprint\u001b[39m(\u001b[38;5;28mself\u001b[39m\u001b[38;5;241m.\u001b[39m__b)\n\u001b[1;32m---> 18\u001b[0m ob2 \u001b[38;5;241m=\u001b[39m Derived()\n\u001b[0;32m     19\u001b[0m \u001b[38;5;28mprint\u001b[39m(ob2\u001b[38;5;241m.\u001b[39ma)\n",
      "Cell \u001b[1;32mIn[29], line 13\u001b[0m, in \u001b[0;36mDerived.__init__\u001b[1;34m(self)\u001b[0m\n\u001b[0;32m     11\u001b[0m Base\u001b[38;5;241m.\u001b[39m\u001b[38;5;21m__init__\u001b[39m(\u001b[38;5;28mself\u001b[39m)\n\u001b[0;32m     12\u001b[0m \u001b[38;5;28mprint\u001b[39m(\u001b[38;5;124m\"\u001b[39m\u001b[38;5;124mCalling private members of base class: \u001b[39m\u001b[38;5;124m\"\u001b[39m)\n\u001b[1;32m---> 13\u001b[0m \u001b[38;5;28mprint\u001b[39m(\u001b[38;5;28mself\u001b[39m\u001b[38;5;241m.\u001b[39m__b)\n",
      "\u001b[1;31mAttributeError\u001b[0m: 'Derived' object has no attribute '_Derived__b'"
     ]
    }
   ],
   "source": [
    "class Base:\n",
    "    def __init__(self):\n",
    "        \n",
    "        self.a = \"Piyush\"\n",
    "        self.__b = \"Private variable\"\n",
    "        \n",
    "        \n",
    "class Derived(Base):\n",
    "    def __init__(self):\n",
    "        \n",
    "        Base.__init__(self)\n",
    "        print(\"Calling private members of base class: \")\n",
    "        print(self.__b)\n",
    "\n",
    "\n",
    "\n",
    "\n",
    "ob2 = Derived()\n",
    "print(ob2.a)\n",
    "\n",
    "        "
   ]
  },
  {
   "cell_type": "code",
   "execution_count": 30,
   "id": "73559a35",
   "metadata": {},
   "outputs": [],
   "source": [
    "## to access the private members of the class we have to implement setter\n",
    "# and getter methods  \n",
    "\n",
    "\n",
    "class Price():\n",
    "    def __init__(self):\n",
    "        self.__p = 100\n",
    "        \n",
    "    def setterp(self , price):\n",
    "        self.__p = self.__p + price\n",
    "        \n",
    "        \n",
    "    def getterp(self):\n",
    "        return self.__p"
   ]
  },
  {
   "cell_type": "code",
   "execution_count": 31,
   "id": "e4839b94",
   "metadata": {},
   "outputs": [],
   "source": [
    "obj1 = Price()"
   ]
  },
  {
   "cell_type": "code",
   "execution_count": 32,
   "id": "39dccd9b",
   "metadata": {},
   "outputs": [],
   "source": [
    "obj1.setterp(100)"
   ]
  },
  {
   "cell_type": "code",
   "execution_count": 24,
   "id": "44553e21",
   "metadata": {},
   "outputs": [
    {
     "data": {
      "text/plain": [
       "200"
      ]
     },
     "execution_count": 24,
     "metadata": {},
     "output_type": "execute_result"
    }
   ],
   "source": [
    "obj1.getterp()"
   ]
  },
  {
   "cell_type": "code",
   "execution_count": null,
   "id": "e8586b29",
   "metadata": {},
   "outputs": [],
   "source": []
  }
 ],
 "metadata": {
  "kernelspec": {
   "display_name": "Python 3 (ipykernel)",
   "language": "python",
   "name": "python3"
  },
  "language_info": {
   "codemirror_mode": {
    "name": "ipython",
    "version": 3
   },
   "file_extension": ".py",
   "mimetype": "text/x-python",
   "name": "python",
   "nbconvert_exporter": "python",
   "pygments_lexer": "ipython3",
   "version": "3.11.2"
  }
 },
 "nbformat": 4,
 "nbformat_minor": 5
}
