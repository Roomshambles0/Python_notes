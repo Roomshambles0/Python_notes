{
 "cells": [
  {
   "cell_type": "code",
   "execution_count": 1,
   "id": "a44ab0e6",
   "metadata": {},
   "outputs": [],
   "source": [
    "# NameSpaces in Python means Scoping\n",
    "# It decides which variable is accessible where in code \n"
   ]
  },
  {
   "cell_type": "code",
   "execution_count": 2,
   "id": "b29d53aa",
   "metadata": {},
   "outputs": [],
   "source": [
    "## there are thre namespaces in Python\n",
    "\n",
    "# built-in namespaces \n",
    "# global namespaces\n",
    "# local namespaces"
   ]
  },
  {
   "cell_type": "code",
   "execution_count": 3,
   "id": "836841d5",
   "metadata": {},
   "outputs": [],
   "source": [
    "# Built-in namespaces: \n",
    "# there are some built in methods that are available \n",
    "# without userdefined module, method and classes some methods are always \n",
    "# present like print(), input() etc these are within built-in namespaces"
   ]
  },
  {
   "cell_type": "code",
   "execution_count": 4,
   "id": "e997d187",
   "metadata": {},
   "outputs": [],
   "source": [
    "# Global namespaces:\n",
    "# Variables and methods defined outside methods are in the global namespaces\n",
    "# these are called global namespaces"
   ]
  },
  {
   "cell_type": "code",
   "execution_count": 5,
   "id": "085661da",
   "metadata": {},
   "outputs": [],
   "source": [
    "# Local namespaces:\n",
    "# Variables and methods that are defined inside function are in local \n",
    "# namespaces \n",
    "# if you have to define a global variable inside function then you have to \n",
    "# use global key word before identifier"
   ]
  },
  {
   "cell_type": "code",
   "execution_count": 6,
   "id": "fcb2eef4",
   "metadata": {},
   "outputs": [],
   "source": [
    "# whenever any global variable and local variable have same name or identifier\n",
    "# local variable shadow out global variable\n",
    "\n"
   ]
  },
  {
   "cell_type": "code",
   "execution_count": 7,
   "id": "6ad3c5d5",
   "metadata": {},
   "outputs": [],
   "source": [
    "## To see global variable and local variables defined then you have to \n",
    "# use globals() and locals() methods"
   ]
  },
  {
   "cell_type": "code",
   "execution_count": 9,
   "id": "02cedccf",
   "metadata": {},
   "outputs": [
    {
     "name": "stdout",
     "output_type": "stream",
     "text": [
      "this are global variables or methods  {'__name__': '__main__', '__doc__': 'Automatically created module for IPython interactive environment', '__package__': None, '__loader__': None, '__spec__': None, '__builtin__': <module 'builtins' (built-in)>, '__builtins__': <module 'builtins' (built-in)>, '_ih': ['', '# NameSpaces in Python means Scoping\\n# It decides which variable is accessible where in code ', '## there are thre namespaces in Python\\n# built-in namespaces \\n# global namespaces\\n# local namespaces', '#Built-in namespaces: there are some built in methods that are available \\n# without userdefined module, method and classes some methods are always \\n# present like print(), input() etc these are within built-in namespaces', '# Global namespaces:\\n# Variables and methods defined outside methods are in the global namespaces\\n# these are called global namespaces', '# Local namespaces:\\n# Variables and methods that are defined inside function are in local \\n# namespaces', '# whenever any global variable and local variable have same name or identifier\\n# local variable shadow out global variable', '## To see global variable and local variables defined then you have to \\n# use globals() and locals() methods', 'a = 1\\ndef test():\\n    b = 2\\n    print(globals())\\n    print(locals())\\ntest()', 'a = 1\\ndef test():\\n    b = 2\\n    print(\"this are global variables or methods \",globals())\\n    print(\"this are local variables or methods \",locals())\\ntest()'], '_oh': {}, '_dh': [WindowsPath('D:/Python_notes')], 'In': ['', '# NameSpaces in Python means Scoping\\n# It decides which variable is accessible where in code ', '## there are thre namespaces in Python\\n# built-in namespaces \\n# global namespaces\\n# local namespaces', '#Built-in namespaces: there are some built in methods that are available \\n# without userdefined module, method and classes some methods are always \\n# present like print(), input() etc these are within built-in namespaces', '# Global namespaces:\\n# Variables and methods defined outside methods are in the global namespaces\\n# these are called global namespaces', '# Local namespaces:\\n# Variables and methods that are defined inside function are in local \\n# namespaces', '# whenever any global variable and local variable have same name or identifier\\n# local variable shadow out global variable', '## To see global variable and local variables defined then you have to \\n# use globals() and locals() methods', 'a = 1\\ndef test():\\n    b = 2\\n    print(globals())\\n    print(locals())\\ntest()', 'a = 1\\ndef test():\\n    b = 2\\n    print(\"this are global variables or methods \",globals())\\n    print(\"this are local variables or methods \",locals())\\ntest()'], 'Out': {}, 'get_ipython': <bound method InteractiveShell.get_ipython of <ipykernel.zmqshell.ZMQInteractiveShell object at 0x000002266ED76590>>, 'exit': <IPython.core.autocall.ZMQExitAutocall object at 0x000002266ED86650>, 'quit': <IPython.core.autocall.ZMQExitAutocall object at 0x000002266ED86650>, 'open': <function open at 0x000002266CB18FE0>, '_': '', '__': '', '___': '', '_i': 'a = 1\\ndef test():\\n    b = 2\\n    print(globals())\\n    print(locals())\\ntest()', '_ii': '## To see global variable and local variables defined then you have to \\n# use globals() and locals() methods', '_iii': '# whenever any global variable and local variable have same name or identifier\\n# local variable shadow out global variable', '_i1': '# NameSpaces in Python means Scoping\\n# It decides which variable is accessible where in code ', '_i2': '## there are thre namespaces in Python\\n# built-in namespaces \\n# global namespaces\\n# local namespaces', '_i3': '#Built-in namespaces: there are some built in methods that are available \\n# without userdefined module, method and classes some methods are always \\n# present like print(), input() etc these are within built-in namespaces', '_i4': '# Global namespaces:\\n# Variables and methods defined outside methods are in the global namespaces\\n# these are called global namespaces', '_i5': '# Local namespaces:\\n# Variables and methods that are defined inside function are in local \\n# namespaces', '_i6': '# whenever any global variable and local variable have same name or identifier\\n# local variable shadow out global variable', '_i7': '## To see global variable and local variables defined then you have to \\n# use globals() and locals() methods', '_i8': 'a = 1\\ndef test():\\n    b = 2\\n    print(globals())\\n    print(locals())\\ntest()', 'a': 1, 'test': <function test at 0x000002266EDB1120>, '_i9': 'a = 1\\ndef test():\\n    b = 2\\n    print(\"this are global variables or methods \",globals())\\n    print(\"this are local variables or methods \",locals())\\ntest()'}\n",
      "this are local variables or methods  {'b': 2}\n"
     ]
    }
   ],
   "source": [
    "a = 1\n",
    "def test():\n",
    "    b = 2\n",
    "    print(\"this are global variables or methods \",globals() 00)\n",
    "    print(\"this are local variables or methods \",locals())\n",
    "test()"
   ]
  },
  {
   "cell_type": "code",
   "execution_count": null,
   "id": "19ae7fa9",
   "metadata": {},
   "outputs": [],
   "source": []
  }
 ],
 "metadata": {
  "kernelspec": {
   "display_name": "Python 3 (ipykernel)",
   "language": "python",
   "name": "python3"
  },
  "language_info": {
   "codemirror_mode": {
    "name": "ipython",
    "version": 3
   },
   "file_extension": ".py",
   "mimetype": "text/x-python",
   "name": "python",
   "nbconvert_exporter": "python",
   "pygments_lexer": "ipython3",
   "version": "3.11.2"
  }
 },
 "nbformat": 4,
 "nbformat_minor": 5
}
